{
  "metadata": {
    "kernelspec": {
      "language": "python",
      "display_name": "Python 3",
      "name": "python3"
    },
    "language_info": {
      "name": "python",
      "version": "3.11.11",
      "mimetype": "text/x-python",
      "codemirror_mode": {
        "name": "ipython",
        "version": 3
      },
      "pygments_lexer": "ipython3",
      "nbconvert_exporter": "python",
      "file_extension": ".py"
    },
    "kaggle": {
      "accelerator": "gpu",
      "dataSources": [],
      "dockerImageVersionId": 31011,
      "isInternetEnabled": true,
      "language": "python",
      "sourceType": "notebook",
      "isGpuEnabled": true
    },
    "colab": {
      "provenance": []
    }
  },
  "nbformat_minor": 0,
  "nbformat": 4,
  "cells": [
    {
      "cell_type": "code",
      "source": [
        "!pip install transformers datasets peft accelerate bitsandbytes evaluate nltk rouge-score"
      ],
      "metadata": {
        "trusted": true,
        "execution": {
          "iopub.status.busy": "2025-04-19T19:22:13.980047Z",
          "iopub.execute_input": "2025-04-19T19:22:13.980690Z",
          "iopub.status.idle": "2025-04-19T19:22:17.351704Z",
          "shell.execute_reply.started": "2025-04-19T19:22:13.980660Z",
          "shell.execute_reply": "2025-04-19T19:22:17.350723Z"
        },
        "id": "KaDEpuYU3IsM",
        "outputId": "e4589cb8-bcc6-4e3b-afed-6a7388d0077d"
      },
      "outputs": [
        {
          "name": "stdout",
          "text": "Requirement already satisfied: transformers in /usr/local/lib/python3.11/dist-packages (4.51.1)\nRequirement already satisfied: datasets in /usr/local/lib/python3.11/dist-packages (3.5.0)\nRequirement already satisfied: peft in /usr/local/lib/python3.11/dist-packages (0.14.0)\nRequirement already satisfied: accelerate in /usr/local/lib/python3.11/dist-packages (1.3.0)\nRequirement already satisfied: bitsandbytes in /usr/local/lib/python3.11/dist-packages (0.45.5)\nRequirement already satisfied: evaluate in /usr/local/lib/python3.11/dist-packages (0.4.3)\nRequirement already satisfied: nltk in /usr/local/lib/python3.11/dist-packages (3.9.1)\nRequirement already satisfied: rouge-score in /usr/local/lib/python3.11/dist-packages (0.1.2)\nRequirement already satisfied: filelock in /usr/local/lib/python3.11/dist-packages (from transformers) (3.18.0)\nRequirement already satisfied: huggingface-hub<1.0,>=0.30.0 in /usr/local/lib/python3.11/dist-packages (from transformers) (0.30.2)\nRequirement already satisfied: numpy>=1.17 in /usr/local/lib/python3.11/dist-packages (from transformers) (1.26.4)\nRequirement already satisfied: packaging>=20.0 in /usr/local/lib/python3.11/dist-packages (from transformers) (24.2)\nRequirement already satisfied: pyyaml>=5.1 in /usr/local/lib/python3.11/dist-packages (from transformers) (6.0.2)\nRequirement already satisfied: regex!=2019.12.17 in /usr/local/lib/python3.11/dist-packages (from transformers) (2024.11.6)\nRequirement already satisfied: requests in /usr/local/lib/python3.11/dist-packages (from transformers) (2.32.3)\nRequirement already satisfied: tokenizers<0.22,>=0.21 in /usr/local/lib/python3.11/dist-packages (from transformers) (0.21.0)\nRequirement already satisfied: safetensors>=0.4.3 in /usr/local/lib/python3.11/dist-packages (from transformers) (0.5.2)\nRequirement already satisfied: tqdm>=4.27 in /usr/local/lib/python3.11/dist-packages (from transformers) (4.67.1)\nRequirement already satisfied: pyarrow>=15.0.0 in /usr/local/lib/python3.11/dist-packages (from datasets) (19.0.1)\nRequirement already satisfied: dill<0.3.9,>=0.3.0 in /usr/local/lib/python3.11/dist-packages (from datasets) (0.3.8)\nRequirement already satisfied: pandas in /usr/local/lib/python3.11/dist-packages (from datasets) (2.2.3)\nRequirement already satisfied: xxhash in /usr/local/lib/python3.11/dist-packages (from datasets) (3.5.0)\nRequirement already satisfied: multiprocess<0.70.17 in /usr/local/lib/python3.11/dist-packages (from datasets) (0.70.16)\nRequirement already satisfied: fsspec<=2024.12.0,>=2023.1.0 in /usr/local/lib/python3.11/dist-packages (from fsspec[http]<=2024.12.0,>=2023.1.0->datasets) (2024.12.0)\nRequirement already satisfied: aiohttp in /usr/local/lib/python3.11/dist-packages (from datasets) (3.11.16)\nRequirement already satisfied: psutil in /usr/local/lib/python3.11/dist-packages (from peft) (7.0.0)\nRequirement already satisfied: torch>=1.13.0 in /usr/local/lib/python3.11/dist-packages (from peft) (2.5.1+cu124)\nRequirement already satisfied: click in /usr/local/lib/python3.11/dist-packages (from nltk) (8.1.8)\nRequirement already satisfied: joblib in /usr/local/lib/python3.11/dist-packages (from nltk) (1.4.2)\nRequirement already satisfied: absl-py in /usr/local/lib/python3.11/dist-packages (from rouge-score) (1.4.0)\nRequirement already satisfied: six>=1.14.0 in /usr/local/lib/python3.11/dist-packages (from rouge-score) (1.17.0)\nRequirement already satisfied: aiohappyeyeballs>=2.3.0 in /usr/local/lib/python3.11/dist-packages (from aiohttp->datasets) (2.6.1)\nRequirement already satisfied: aiosignal>=1.1.2 in /usr/local/lib/python3.11/dist-packages (from aiohttp->datasets) (1.3.2)\nRequirement already satisfied: attrs>=17.3.0 in /usr/local/lib/python3.11/dist-packages (from aiohttp->datasets) (25.3.0)\nRequirement already satisfied: frozenlist>=1.1.1 in /usr/local/lib/python3.11/dist-packages (from aiohttp->datasets) (1.5.0)\nRequirement already satisfied: multidict<7.0,>=4.5 in /usr/local/lib/python3.11/dist-packages (from aiohttp->datasets) (6.2.0)\nRequirement already satisfied: propcache>=0.2.0 in /usr/local/lib/python3.11/dist-packages (from aiohttp->datasets) (0.3.1)\nRequirement already satisfied: yarl<2.0,>=1.17.0 in /usr/local/lib/python3.11/dist-packages (from aiohttp->datasets) (1.19.0)\nRequirement already satisfied: typing-extensions>=3.7.4.3 in /usr/local/lib/python3.11/dist-packages (from huggingface-hub<1.0,>=0.30.0->transformers) (4.13.1)\nRequirement already satisfied: mkl_fft in /usr/local/lib/python3.11/dist-packages (from numpy>=1.17->transformers) (1.3.8)\nRequirement already satisfied: mkl_random in /usr/local/lib/python3.11/dist-packages (from numpy>=1.17->transformers) (1.2.4)\nRequirement already satisfied: mkl_umath in /usr/local/lib/python3.11/dist-packages (from numpy>=1.17->transformers) (0.1.1)\nRequirement already satisfied: mkl in /usr/local/lib/python3.11/dist-packages (from numpy>=1.17->transformers) (2025.1.0)\nRequirement already satisfied: tbb4py in /usr/local/lib/python3.11/dist-packages (from numpy>=1.17->transformers) (2022.1.0)\nRequirement already satisfied: mkl-service in /usr/local/lib/python3.11/dist-packages (from numpy>=1.17->transformers) (2.4.1)\nRequirement already satisfied: charset-normalizer<4,>=2 in /usr/local/lib/python3.11/dist-packages (from requests->transformers) (3.4.1)\nRequirement already satisfied: idna<4,>=2.5 in /usr/local/lib/python3.11/dist-packages (from requests->transformers) (3.10)\nRequirement already satisfied: urllib3<3,>=1.21.1 in /usr/local/lib/python3.11/dist-packages (from requests->transformers) (2.3.0)\nRequirement already satisfied: certifi>=2017.4.17 in /usr/local/lib/python3.11/dist-packages (from requests->transformers) (2025.1.31)\nRequirement already satisfied: networkx in /usr/local/lib/python3.11/dist-packages (from torch>=1.13.0->peft) (3.4.2)\nRequirement already satisfied: jinja2 in /usr/local/lib/python3.11/dist-packages (from torch>=1.13.0->peft) (3.1.6)\nRequirement already satisfied: nvidia-cuda-nvrtc-cu12==12.4.127 in /usr/local/lib/python3.11/dist-packages (from torch>=1.13.0->peft) (12.4.127)\nRequirement already satisfied: nvidia-cuda-runtime-cu12==12.4.127 in /usr/local/lib/python3.11/dist-packages (from torch>=1.13.0->peft) (12.4.127)\nRequirement already satisfied: nvidia-cuda-cupti-cu12==12.4.127 in /usr/local/lib/python3.11/dist-packages (from torch>=1.13.0->peft) (12.4.127)\nRequirement already satisfied: nvidia-cudnn-cu12==9.1.0.70 in /usr/local/lib/python3.11/dist-packages (from torch>=1.13.0->peft) (9.1.0.70)\nRequirement already satisfied: nvidia-cublas-cu12==12.4.5.8 in /usr/local/lib/python3.11/dist-packages (from torch>=1.13.0->peft) (12.4.5.8)\nRequirement already satisfied: nvidia-cufft-cu12==11.2.1.3 in /usr/local/lib/python3.11/dist-packages (from torch>=1.13.0->peft) (11.2.1.3)\nRequirement already satisfied: nvidia-curand-cu12==10.3.5.147 in /usr/local/lib/python3.11/dist-packages (from torch>=1.13.0->peft) (10.3.5.147)\nRequirement already satisfied: nvidia-cusolver-cu12==11.6.1.9 in /usr/local/lib/python3.11/dist-packages (from torch>=1.13.0->peft) (11.6.1.9)\nRequirement already satisfied: nvidia-cusparse-cu12==12.3.1.170 in /usr/local/lib/python3.11/dist-packages (from torch>=1.13.0->peft) (12.3.1.170)\nRequirement already satisfied: nvidia-nccl-cu12==2.21.5 in /usr/local/lib/python3.11/dist-packages (from torch>=1.13.0->peft) (2.21.5)\nRequirement already satisfied: nvidia-nvtx-cu12==12.4.127 in /usr/local/lib/python3.11/dist-packages (from torch>=1.13.0->peft) (12.4.127)\nRequirement already satisfied: nvidia-nvjitlink-cu12==12.4.127 in /usr/local/lib/python3.11/dist-packages (from torch>=1.13.0->peft) (12.4.127)\nRequirement already satisfied: triton==3.1.0 in /usr/local/lib/python3.11/dist-packages (from torch>=1.13.0->peft) (3.1.0)\nRequirement already satisfied: sympy==1.13.1 in /usr/local/lib/python3.11/dist-packages (from torch>=1.13.0->peft) (1.13.1)\nRequirement already satisfied: mpmath<1.4,>=1.1.0 in /usr/local/lib/python3.11/dist-packages (from sympy==1.13.1->torch>=1.13.0->peft) (1.3.0)\nRequirement already satisfied: python-dateutil>=2.8.2 in /usr/local/lib/python3.11/dist-packages (from pandas->datasets) (2.9.0.post0)\nRequirement already satisfied: pytz>=2020.1 in /usr/local/lib/python3.11/dist-packages (from pandas->datasets) (2025.2)\nRequirement already satisfied: tzdata>=2022.7 in /usr/local/lib/python3.11/dist-packages (from pandas->datasets) (2025.2)\nRequirement already satisfied: MarkupSafe>=2.0 in /usr/local/lib/python3.11/dist-packages (from jinja2->torch>=1.13.0->peft) (3.0.2)\nRequirement already satisfied: intel-openmp<2026,>=2024 in /usr/local/lib/python3.11/dist-packages (from mkl->numpy>=1.17->transformers) (2024.2.0)\nRequirement already satisfied: tbb==2022.* in /usr/local/lib/python3.11/dist-packages (from mkl->numpy>=1.17->transformers) (2022.1.0)\nRequirement already satisfied: tcmlib==1.* in /usr/local/lib/python3.11/dist-packages (from tbb==2022.*->mkl->numpy>=1.17->transformers) (1.2.0)\nRequirement already satisfied: intel-cmplr-lib-rt in /usr/local/lib/python3.11/dist-packages (from mkl_umath->numpy>=1.17->transformers) (2024.2.0)\nRequirement already satisfied: intel-cmplr-lib-ur==2024.2.0 in /usr/local/lib/python3.11/dist-packages (from intel-openmp<2026,>=2024->mkl->numpy>=1.17->transformers) (2024.2.0)\n",
          "output_type": "stream"
        }
      ],
      "execution_count": null
    },
    {
      "cell_type": "code",
      "source": [
        "# ✅ Step 1: Install dependencies\n",
        "# If running locally or on Kaggle, install if needed:\n",
        "# !pip install transformers accelerate datasets peft bitsandbytes evaluate nltk\n",
        "\n",
        "# ✅ Step 2: Imports\n",
        "import torch\n",
        "from datasets import load_dataset\n",
        "from transformers import (\n",
        "    AutoTokenizer,\n",
        "    AutoModelForCausalLM,\n",
        "    TrainingArguments,\n",
        "    Trainer,\n",
        "    DataCollatorForLanguageModeling,\n",
        "    BitsAndBytesConfig\n",
        ")\n",
        "from peft import LoraConfig, get_peft_model, prepare_model_for_kbit_training\n",
        "import evaluate\n",
        "import nltk\n",
        "nltk.download('punkt')\n",
        "\n",
        "# ✅ Step 3: Load and format dataset using only User + Nutritionist\n",
        "dataset = load_dataset(\"Tom158/Nutritional-LLama\")\n",
        "\n",
        "def format_example(example):\n",
        "    prompt = f\"<|user|>\\n{example['User']}\\n<|assistant|>\\n{example['Nutritionist']}\"\n",
        "    return {\"text\": prompt}\n",
        "\n",
        "dataset = dataset.map(format_example)\n",
        "train_dataset = dataset[\"train\"].shuffle(seed=42).select(range(200))\n",
        "eval_dataset = dataset[\"train\"].select(range(200, 250))\n",
        "\n",
        "# ✅ Step 4: Load tokenizer and quantized model\n",
        "model_name = \"Qwen/Qwen2.5-3B-Instruct\"\n",
        "\n",
        "tokenizer = AutoTokenizer.from_pretrained(model_name, trust_remote_code=True)\n",
        "tokenizer.pad_token = tokenizer.eos_token\n",
        "\n",
        "quant_config = BitsAndBytesConfig(\n",
        "    load_in_4bit=True,\n",
        "    bnb_4bit_use_double_quant=True,\n",
        "    bnb_4bit_quant_type=\"nf4\",\n",
        "    bnb_4bit_compute_dtype=torch.bfloat16,\n",
        ")\n",
        "\n",
        "model = AutoModelForCausalLM.from_pretrained(\n",
        "    model_name,\n",
        "    quantization_config=quant_config,\n",
        "    device_map=\"auto\",\n",
        "    trust_remote_code=True\n",
        ")\n",
        "\n",
        "model = prepare_model_for_kbit_training(model)\n",
        "\n",
        "# ✅ Step 5: Apply LoRA\n",
        "lora_config = LoraConfig(\n",
        "    r=8,\n",
        "    lora_alpha=16,\n",
        "    lora_dropout=0.1,\n",
        "    bias=\"none\",\n",
        "    task_type=\"CAUSAL_LM\"\n",
        ")\n",
        "model = get_peft_model(model, lora_config)\n",
        "\n",
        "# ✅ Step 6: Tokenization\n",
        "def tokenize(example):\n",
        "    return tokenizer(example[\"text\"], truncation=True, padding=\"max_length\", max_length=512)\n",
        "\n",
        "train_dataset = train_dataset.map(tokenize, batched=True)\n",
        "eval_dataset = eval_dataset.map(tokenize, batched=True)\n",
        "\n",
        "# ✅ Step 7: TrainingArguments\n",
        "training_args = TrainingArguments(\n",
        "    output_dir=\"./lora-nutrition\",\n",
        "    per_device_train_batch_size=1,\n",
        "    gradient_accumulation_steps=8,\n",
        "    num_train_epochs=1,\n",
        "    logging_steps=10,\n",
        "    learning_rate=2e-4,\n",
        "    bf16=True,  # Better than fp16 for quantized models\n",
        "    save_total_limit=2,\n",
        "    report_to=\"none\"\n",
        ")\n",
        "\n",
        "# ✅ Step 8: Trainer\n",
        "trainer = Trainer(\n",
        "    model=model,\n",
        "    args=training_args,\n",
        "    train_dataset=train_dataset,\n",
        "    eval_dataset=eval_dataset,\n",
        "    tokenizer=tokenizer,\n",
        "    data_collator=DataCollatorForLanguageModeling(tokenizer=tokenizer, mlm=False)\n",
        ")\n",
        "\n",
        "# ✅ Step 9: Train\n",
        "trainer.train()\n",
        "\n",
        "# ✅ Step 10: Save\n",
        "model.save_pretrained(\"./lora-nutrition\")\n",
        "tokenizer.save_pretrained(\"./lora-nutrition\")\n"
      ],
      "metadata": {
        "_uuid": "8f2839f25d086af736a60e9eeb907d3b93b6e0e5",
        "_cell_guid": "b1076dfc-b9ad-4769-8c92-a6c4dae69d19",
        "trusted": true,
        "execution": {
          "iopub.status.busy": "2025-04-19T19:22:22.152797Z",
          "iopub.execute_input": "2025-04-19T19:22:22.153454Z",
          "iopub.status.idle": "2025-04-19T19:31:28.794555Z",
          "shell.execute_reply.started": "2025-04-19T19:22:22.153424Z",
          "shell.execute_reply": "2025-04-19T19:31:28.793635Z"
        },
        "id": "H-9uSOEk3IsW",
        "outputId": "7a302948-b4f7-455d-e97f-c465d5e5cbf5",
        "colab": {
          "referenced_widgets": [
            "78718ad223ca4422bcb49f882b99a1b2",
            "974e17ffff6c41dba2c6e90f055ddcde",
            "c87c71a29dd146e0bf94a12fc3614512"
          ]
        }
      },
      "outputs": [
        {
          "name": "stderr",
          "text": "2025-04-19 19:22:27.938117: E external/local_xla/xla/stream_executor/cuda/cuda_fft.cc:477] Unable to register cuFFT factory: Attempting to register factory for plugin cuFFT when one has already been registered\nWARNING: All log messages before absl::InitializeLog() is called are written to STDERR\nE0000 00:00:1745090547.960553     188 cuda_dnn.cc:8310] Unable to register cuDNN factory: Attempting to register factory for plugin cuDNN when one has already been registered\nE0000 00:00:1745090547.967349     188 cuda_blas.cc:1418] Unable to register cuBLAS factory: Attempting to register factory for plugin cuBLAS when one has already been registered\n[nltk_data] Downloading package punkt to /usr/share/nltk_data...\n[nltk_data]   Package punkt is already up-to-date!\nSliding Window Attention is enabled but not implemented for `sdpa`; unexpected results may be encountered.\n",
          "output_type": "stream"
        },
        {
          "output_type": "display_data",
          "data": {
            "text/plain": "Loading checkpoint shards:   0%|          | 0/2 [00:00<?, ?it/s]",
            "application/vnd.jupyter.widget-view+json": {
              "version_major": 2,
              "version_minor": 0,
              "model_id": "78718ad223ca4422bcb49f882b99a1b2"
            }
          },
          "metadata": {}
        },
        {
          "output_type": "display_data",
          "data": {
            "text/plain": "Map:   0%|          | 0/200 [00:00<?, ? examples/s]",
            "application/vnd.jupyter.widget-view+json": {
              "version_major": 2,
              "version_minor": 0,
              "model_id": "974e17ffff6c41dba2c6e90f055ddcde"
            }
          },
          "metadata": {}
        },
        {
          "output_type": "display_data",
          "data": {
            "text/plain": "Map:   0%|          | 0/50 [00:00<?, ? examples/s]",
            "application/vnd.jupyter.widget-view+json": {
              "version_major": 2,
              "version_minor": 0,
              "model_id": "c87c71a29dd146e0bf94a12fc3614512"
            }
          },
          "metadata": {}
        },
        {
          "name": "stderr",
          "text": "/tmp/ipykernel_188/3011452871.py:85: FutureWarning: `tokenizer` is deprecated and will be removed in version 5.0.0 for `Trainer.__init__`. Use `processing_class` instead.\n  trainer = Trainer(\nNo label_names provided for model class `PeftModelForCausalLM`. Since `PeftModel` hides base models input arguments, if label_names is not given, label_names can't be set automatically within `Trainer`. Note that empty label_names list will be used instead.\n`use_cache=True` is incompatible with gradient checkpointing. Setting `use_cache=False`.\n/usr/local/lib/python3.11/dist-packages/torch/_dynamo/eval_frame.py:632: UserWarning: torch.utils.checkpoint: the use_reentrant parameter should be passed explicitly. In version 2.5 we will raise an exception if use_reentrant is not passed. use_reentrant=False is recommended, but if you need to preserve the current default behavior, you can pass use_reentrant=True. Refer to docs for more details on the differences between the two variants.\n  return fn(*args, **kwargs)\n",
          "output_type": "stream"
        },
        {
          "output_type": "display_data",
          "data": {
            "text/plain": "<IPython.core.display.HTML object>",
            "text/html": "\n    <div>\n      \n      <progress value='25' max='25' style='width:300px; height:20px; vertical-align: middle;'></progress>\n      [25/25 08:23, Epoch 1/1]\n    </div>\n    <table border=\"1\" class=\"dataframe\">\n  <thead>\n <tr style=\"text-align: left;\">\n      <th>Step</th>\n      <th>Training Loss</th>\n    </tr>\n  </thead>\n  <tbody>\n    <tr>\n      <td>10</td>\n      <td>1.924900</td>\n    </tr>\n    <tr>\n      <td>20</td>\n      <td>1.742700</td>\n    </tr>\n  </tbody>\n</table><p>"
          },
          "metadata": {}
        },
        {
          "execution_count": 2,
          "output_type": "execute_result",
          "data": {
            "text/plain": "('./lora-nutrition/tokenizer_config.json',\n './lora-nutrition/special_tokens_map.json',\n './lora-nutrition/vocab.json',\n './lora-nutrition/merges.txt',\n './lora-nutrition/added_tokens.json',\n './lora-nutrition/tokenizer.json')"
          },
          "metadata": {}
        }
      ],
      "execution_count": null
    },
    {
      "cell_type": "code",
      "source": [
        "import numpy as np\n",
        "import pandas as pd\n",
        "import matplotlib.pyplot as plt\n",
        "from datasets import load_dataset\n",
        "\n",
        "import nltk\n",
        "import spacy\n",
        "from nltk.corpus import stopwords\n",
        "from nltk.tokenize import word_tokenize\n",
        "from sklearn.manifold import TSNE\n",
        "from sentence_transformers import SentenceTransformer\n",
        "import networkx as nx\n",
        "\n",
        "nltk.download('punkt')\n",
        "nltk.download('stopwords')\n",
        "\n",
        "import torch\n",
        "from transformers import (AutoProcessor, AutoModelForVision2Seq,\n",
        "    AutoModelForCausalLM, AutoTokenizer, TrainingArguments, Trainer)\n",
        "from transformers.integrations import TensorBoardCallback\n",
        "from peft import LoraConfig, get_peft_model, prepare_model_for_kbit_training\n",
        "from PIL import Image\n",
        "import requests\n",
        "from transformers import LlavaForConditionalGeneration\n",
        "\n",
        "from evaluate import load\n",
        "from sklearn.metrics import accuracy_score, f1_score, precision_score, recall_score\n",
        "\n",
        "# Add OCR capabilities\n",
        "import pytesseract\n",
        "from PIL import Image"
      ],
      "metadata": {
        "trusted": true,
        "execution": {
          "iopub.status.busy": "2025-04-19T19:33:57.109613Z",
          "iopub.execute_input": "2025-04-19T19:33:57.109953Z",
          "iopub.status.idle": "2025-04-19T19:33:59.863897Z",
          "shell.execute_reply.started": "2025-04-19T19:33:57.109929Z",
          "shell.execute_reply": "2025-04-19T19:33:59.863082Z"
        },
        "id": "zZ1sNe9e3Isa",
        "outputId": "a9b8ba6a-b203-4b99-9e56-16dc57a1e1c7"
      },
      "outputs": [
        {
          "name": "stderr",
          "text": "[nltk_data] Downloading package punkt to /usr/share/nltk_data...\n[nltk_data]   Package punkt is already up-to-date!\n[nltk_data] Downloading package stopwords to /usr/share/nltk_data...\n[nltk_data]   Package stopwords is already up-to-date!\n",
          "output_type": "stream"
        }
      ],
      "execution_count": null
    },
    {
      "cell_type": "code",
      "source": [
        "dataset = load_dataset(\"Tom158/Nutritional-LLama\")\n",
        "df = dataset['train'].to_pandas()\n",
        "print(df.columns, df.shape)"
      ],
      "metadata": {
        "trusted": true,
        "execution": {
          "iopub.status.busy": "2025-04-19T19:34:16.938344Z",
          "iopub.execute_input": "2025-04-19T19:34:16.939388Z",
          "iopub.status.idle": "2025-04-19T19:34:18.312652Z",
          "shell.execute_reply.started": "2025-04-19T19:34:16.939359Z",
          "shell.execute_reply": "2025-04-19T19:34:18.311997Z"
        },
        "id": "TBLIMvyq3Isc",
        "outputId": "a4b0910d-79da-499d-f482-a6688731fa96"
      },
      "outputs": [
        {
          "name": "stdout",
          "text": "Index(['System', 'User', 'Nutritionist', 'text'], dtype='object') (1488, 4)\n",
          "output_type": "stream"
        }
      ],
      "execution_count": null
    },
    {
      "cell_type": "code",
      "source": [
        "class NutritionNLPProcessor:\n",
        "    def __init__(self):\n",
        "        self.nlp = spacy.load('en_core_web_sm')\n",
        "        self.stop_words = set(stopwords.words('english'))\n",
        "        self.embedding_model = SentenceTransformer('all-MiniLM-L6-v2')\n",
        "    def preprocess_text(self, text):\n",
        "        text = text.lower()\n",
        "        tokens = word_tokenize(text)\n",
        "        return [token for token in tokens if token.isalnum() and token not in self.stop_words]\n",
        "    def perform_pos_tagging(self, text):\n",
        "        doc = self.nlp(text)\n",
        "        pos_distribution = {}\n",
        "        for token in doc:\n",
        "            pos_distribution[token.pos_] = pos_distribution.get(token.pos_, 0) + 1\n",
        "        return pos_distribution\n",
        "    def visualize_embeddings_tsne(self, texts, top_n=30):\n",
        "        from sklearn.manifold import TSNE\n",
        "        import matplotlib.pyplot as plt\n",
        "\n",
        "        # Tokenize and flatten, then deduplicate\n",
        "        tokens = [w for text in texts for w in self.preprocess_text(text)]\n",
        "        unique_tokens = list(set(tokens))[:top_n]\n",
        "\n",
        "        if len(unique_tokens) < 4:\n",
        "            raise ValueError(\"Need at least 4 unique tokens for meaningful t-SNE visualization.\")\n",
        "\n",
        "        # Generate embeddings for selected tokens\n",
        "        embeddings = self.embedding_model.encode(unique_tokens)\n",
        "\n",
        "        # Set perplexity to something safe\n",
        "        perplexity = min(len(embeddings) - 1, 30)\n",
        "        tsne = TSNE(n_components=2, random_state=42, perplexity=perplexity)\n",
        "\n",
        "        # Project to 2D\n",
        "        embeddings_2d = tsne.fit_transform(embeddings)\n",
        "\n",
        "        # Plot\n",
        "        plt.figure(figsize=(12, 8))\n",
        "        plt.scatter(embeddings_2d[:, 0], embeddings_2d[:, 1])\n",
        "\n",
        "        # Annotate points\n",
        "        for i, token in enumerate(unique_tokens):\n",
        "            plt.annotate(token, (embeddings_2d[i, 0], embeddings_2d[i, 1]), fontsize=9)\n",
        "\n",
        "        plt.title(\"t-SNE Visualization of Word Embeddings\")\n",
        "        plt.show()\n"
      ],
      "metadata": {
        "trusted": true,
        "execution": {
          "iopub.status.busy": "2025-04-19T20:15:41.810946Z",
          "iopub.execute_input": "2025-04-19T20:15:41.811733Z",
          "iopub.status.idle": "2025-04-19T20:15:41.820312Z",
          "shell.execute_reply.started": "2025-04-19T20:15:41.811706Z",
          "shell.execute_reply": "2025-04-19T20:15:41.819502Z"
        },
        "id": "L5vS9KxQ3Isd"
      },
      "outputs": [],
      "execution_count": null
    },
    {
      "cell_type": "code",
      "source": [
        "class PromptEngineeringTechniques:\n",
        "    def chain_of_thought(self, query=None):\n",
        "        formatted_instruction = \"Reason through the problem step by step, ensuring each step logically follows from the last.\"\n",
        "        return formatted_instruction\n",
        "\n",
        "    def tree_of_thought(self, query=None):\n",
        "        formatted_instruction = \"Explore multiple reasoning paths in parallel, compare their outcomes, and choose the most plausible one.\"\n",
        "        return formatted_instruction\n",
        "\n",
        "    def graph_of_thought(self, query=None):\n",
        "        formatted_instruction = \"Map out and connect relevant ideas to form a structured, interconnected explanation.\"\n",
        "        return formatted_instruction"
      ],
      "metadata": {
        "trusted": true,
        "execution": {
          "iopub.status.busy": "2025-04-19T20:01:35.817341Z",
          "iopub.execute_input": "2025-04-19T20:01:35.817664Z",
          "iopub.status.idle": "2025-04-19T20:01:35.822360Z",
          "shell.execute_reply.started": "2025-04-19T20:01:35.817636Z",
          "shell.execute_reply": "2025-04-19T20:01:35.821552Z"
        },
        "id": "nznKLUcj3Isf"
      },
      "outputs": [],
      "execution_count": null
    },
    {
      "cell_type": "code",
      "source": [
        "class RetrievalAugmentedGeneration:\n",
        "    def __init__(self, texts, use_lora=True, lora_path=\"./lora-nutrition\", base_model=\"Qwen/Qwen2.5-3B-Instruct\"):\n",
        "        self.embedding_model = SentenceTransformer('all-MiniLM-L6-v2')\n",
        "        self.texts = texts\n",
        "        self.embeddings = self.embedding_model.encode(texts, convert_to_tensor=True).cpu().numpy()\n",
        "        import faiss\n",
        "        dimension = self.embeddings.shape[1]\n",
        "        self.index = faiss.IndexHNSWFlat(dimension, 32)\n",
        "        self.index.add(self.embeddings)\n",
        "\n",
        "        # Use the fine-tuned LoRA model if available\n",
        "        if use_lora:\n",
        "            try:\n",
        "                print(f\"Loading fine-tuned LoRA model from {lora_path}...\")\n",
        "                self.model_id = base_model\n",
        "\n",
        "                # Load tokenizer from the LoRA path\n",
        "                self.tokenizer = AutoTokenizer.from_pretrained(lora_path, trust_remote_code=True)\n",
        "                self.tokenizer.pad_token = self.tokenizer.eos_token\n",
        "\n",
        "                # Configure quantization for 4-bit loading\n",
        "                quant_config = BitsAndBytesConfig(\n",
        "                    load_in_4bit=True,\n",
        "                    bnb_4bit_use_double_quant=True,\n",
        "                    bnb_4bit_quant_type=\"nf4\",\n",
        "                    bnb_4bit_compute_dtype=torch.bfloat16,\n",
        "                )\n",
        "\n",
        "                # Load base model with quantization\n",
        "                self.model = AutoModelForCausalLM.from_pretrained(\n",
        "                    self.model_id,\n",
        "                    quantization_config=quant_config,\n",
        "                    device_map=\"auto\",\n",
        "                    trust_remote_code=True\n",
        "                )\n",
        "\n",
        "                # Load LoRA adapter\n",
        "                from peft import PeftModel\n",
        "                self.model = PeftModel.from_pretrained(self.model, lora_path)\n",
        "                print(\"Successfully loaded Qwen LoRA model\")\n",
        "            except Exception as e:\n",
        "                print(f\"Error loading LoRA model: {str(e)}. Falling back to default model.\")\n",
        "                # Fall back to default model\n",
        "                self.model_id = \"Qwen/Qwen2.5-3B-Instruct\"\n",
        "                self.model = AutoModelForCausalLM.from_pretrained(\n",
        "                    self.model_id,\n",
        "                    torch_dtype=\"auto\",\n",
        "                    device_map=\"auto\",\n",
        "                    trust_remote_code=True\n",
        "                )\n",
        "                self.tokenizer = AutoTokenizer.from_pretrained(self.model_id, trust_remote_code=True)\n",
        "                if self.tokenizer.pad_token is None:\n",
        "                    self.tokenizer.pad_token = self.tokenizer.eos_token\n",
        "        else:\n",
        "            # Use default model\n",
        "            self.model_id = \"Qwen/Qwen2.5-3B-Instruct\"\n",
        "            self.model = AutoModelForCausalLM.from_pretrained(\n",
        "                self.model_id,\n",
        "                torch_dtype=\"auto\",\n",
        "                device_map=\"auto\",\n",
        "                trust_remote_code=True\n",
        "            )\n",
        "            self.tokenizer = AutoTokenizer.from_pretrained(self.model_id, trust_remote_code=True)\n",
        "            if self.tokenizer.pad_token is None:\n",
        "                self.tokenizer.pad_token = self.tokenizer.eos_token\n",
        "\n",
        "    def retrieve_relevant_context(self, query, top_k=3):\n",
        "        q_emb = self.embedding_model.encode([query], convert_to_tensor=True).cpu().numpy()\n",
        "        distances, indices = self.index.search(q_emb, top_k)\n",
        "        return [self.texts[i] for i in indices[0]]\n",
        "\n",
        "    def generate_response(self, query, image_path=None, top_k=3, reasoning_technique=None, reasoning_params=None):\n",
        "        contexts = self.retrieve_relevant_context(query, top_k)\n",
        "        context = \"\\n\".join(contexts)\n",
        "\n",
        "        image_text = \"\"\n",
        "        if image_path:\n",
        "            try:\n",
        "                image = Image.open(image_path)\n",
        "                image_text = pytesseract.image_to_string(image)\n",
        "                query = f\"Image contains: {image_text}\\n\\n{query}\"\n",
        "            except Exception as e:\n",
        "                print(f\"Error processing image: {str(e)}\")\n",
        "\n",
        "        # Add reasoning technique to the prompt if specified\n",
        "        reasoning_instruction = \"\"\n",
        "        if reasoning_technique and hasattr(PromptEngineeringTechniques(), reasoning_technique):\n",
        "            technique_method = getattr(PromptEngineeringTechniques(), reasoning_technique)\n",
        "            reasoning_instruction = technique_method(query)\n",
        "\n",
        "        # Format prompt based on the model's expected format\n",
        "        # Qwen models use a chat format that we need to adapt to\n",
        "        if \"qwen\" in self.model_id.lower():\n",
        "            # Format for Qwen chat model\n",
        "            prompt = f\"<|user|>\\nContext:\\n{context}\\n\\n\"\n",
        "            if reasoning_instruction:\n",
        "                prompt += f\"{reasoning_instruction}\\n\\n\"\n",
        "            prompt += f\"Question: {query}\\n<|assistant|>\\n\"\n",
        "        else:\n",
        "            # Format for other models\n",
        "            prompt = f\"Context:\\n{context}\\n\\n\"\n",
        "            if reasoning_instruction:\n",
        "                prompt += f\"{reasoning_instruction}\\n\\n\"\n",
        "            prompt += f\"Question: {query}\\n\\nAnswer:\"\n",
        "\n",
        "        # Generate response from LLM\n",
        "        inputs = self.tokenizer(prompt, return_tensors=\"pt\", padding=True).to(\"cuda\" if torch.cuda.is_available() else \"cpu\")\n",
        "\n",
        "        # Check input length and truncate if necessary\n",
        "        if inputs[\"input_ids\"].shape[1] > 500:\n",
        "            print(f\"Warning: Input length is {inputs['input_ids'].shape[1]}, truncating context\")\n",
        "            shortened_context = context.split(\"\\n\")[0]\n",
        "\n",
        "            if \"qwen\" in self.model_id.lower():\n",
        "                prompt = f\"<|user|>\\nContext:\\n{shortened_context}\\n\\nQuestion: {query}\\n<|assistant|>\\n\"\n",
        "            else:\n",
        "                prompt = f\"Context:\\n{shortened_context}\\n\\nQuestion: {query}\\n\\nAnswer:\"\n",
        "\n",
        "            inputs = self.tokenizer(prompt, return_tensors=\"pt\", padding=True).to(\"cuda\" if torch.cuda.is_available() else \"cpu\")\n",
        "\n",
        "        outputs = self.model.generate(\n",
        "            **inputs,\n",
        "            max_new_tokens=512,\n",
        "            do_sample=True,\n",
        "            top_p=0.95,\n",
        "            temperature=0.7\n",
        "        )\n",
        "        response = self.tokenizer.decode(outputs[0], skip_special_tokens=True)\n",
        "\n",
        "        # Extract just the answer part if possible\n",
        "        if \"qwen\" in self.model_id.lower():\n",
        "            if \"<|assistant|>\" in response:\n",
        "                response = response.split(\"<|assistant|>\")[-1].strip()\n",
        "        else:\n",
        "            if \"Answer:\" in response:\n",
        "                response = response.split(\"Answer:\")[-1].strip()\n",
        "\n",
        "        return response"
      ],
      "metadata": {
        "trusted": true,
        "execution": {
          "iopub.status.busy": "2025-04-19T19:52:15.000151Z",
          "iopub.execute_input": "2025-04-19T19:52:15.000480Z",
          "iopub.status.idle": "2025-04-19T19:52:15.018751Z",
          "shell.execute_reply.started": "2025-04-19T19:52:15.000457Z",
          "shell.execute_reply": "2025-04-19T19:52:15.017946Z"
        },
        "id": "stvgvVL83Isg"
      },
      "outputs": [],
      "execution_count": null
    },
    {
      "cell_type": "code",
      "source": [
        "class MultimodalNutritionAgent:\n",
        "    def __init__(self, rag_system, nlp_processor):\n",
        "        self.rag_system = rag_system\n",
        "        self.nlp_processor = nlp_processor\n",
        "        self.prompt_engineering = PromptEngineeringTechniques()\n",
        "\n",
        "    def process_text_query(self, query, reasoning_technique=None):\n",
        "        reasoning_params = None\n",
        "        if reasoning_technique == \"graph_of_thought\":\n",
        "            tokens = self.nlp_processor.preprocess_text(query)\n",
        "            key_concepts = tokens[:5] if len(tokens) > 5 else tokens\n",
        "            reasoning_params = key_concepts\n",
        "\n",
        "        response = self.rag_system.generate_response(\n",
        "            query,\n",
        "            reasoning_technique=reasoning_technique,\n",
        "            reasoning_params=reasoning_params\n",
        "        )\n",
        "        return {\"response\": response, \"reasoning_technique\": reasoning_technique}\n",
        "\n",
        "    def analyze_food_image(self, image_path):\n",
        "        try:\n",
        "            image = Image.open(image_path).convert('RGB')\n",
        "            extracted_text = pytesseract.image_to_string(image)\n",
        "\n",
        "            nutritional_info = {}\n",
        "            if \"calories\" in extracted_text.lower():\n",
        "                nutritional_info[\"calories_mentioned\"] = True\n",
        "\n",
        "            return {\n",
        "                \"image_size\": image.size,\n",
        "                \"format\": image.format,\n",
        "                \"extracted_text\": extracted_text,\n",
        "                \"nutritional_info\": nutritional_info\n",
        "            }\n",
        "        except Exception as e:\n",
        "            return {\"error\": str(e)}\n",
        "\n",
        "    def process_image_query(self, image_path, text_query=None, reasoning_technique=None):\n",
        "        image_info = self.analyze_food_image(image_path)\n",
        "\n",
        "        if text_query is None:\n",
        "            text_query = \"Provide nutritional information about this food.\"\n",
        "\n",
        "        if \"extracted_text\" in image_info and image_info[\"extracted_text\"]:\n",
        "            enhanced_query = f\"{text_query} The image contains text: {image_info['extracted_text']}\"\n",
        "        else:\n",
        "            enhanced_query = text_query\n",
        "\n",
        "        reasoning_params = None\n",
        "        if reasoning_technique == \"graph_of_thought\":\n",
        "            tokens = self.nlp_processor.preprocess_text(enhanced_query)\n",
        "            key_concepts = tokens[:5] if len(tokens) > 5 else tokens\n",
        "            reasoning_params = key_concepts\n",
        "\n",
        "        response = self.rag_system.generate_response(\n",
        "            enhanced_query,\n",
        "            image_path=image_path,\n",
        "            reasoning_technique=reasoning_technique,\n",
        "            reasoning_params=reasoning_params\n",
        "        )\n",
        "        return {\"response\": response, \"image_info\": image_info, \"reasoning_technique\": reasoning_technique}\n",
        "\n",
        "    def recommend_meal_by_image(self, image_path, dietary_preference=None, health_goal=None, reasoning_technique=\"chain_of_thought\"):\n",
        "        query = \"Based on this image\"\n",
        "        if dietary_preference:\n",
        "            query += f\", with dietary preference {dietary_preference}\"\n",
        "        if health_goal:\n",
        "            query += f\", aiming for {health_goal}\"\n",
        "        query += \", provide nutritional recommendations.\"\n",
        "\n",
        "        response = self.process_image_query(image_path, query, reasoning_technique=reasoning_technique)\n",
        "        return response"
      ],
      "metadata": {
        "trusted": true,
        "execution": {
          "iopub.status.busy": "2025-04-19T19:44:53.351705Z",
          "iopub.execute_input": "2025-04-19T19:44:53.352003Z",
          "iopub.status.idle": "2025-04-19T19:44:53.360836Z",
          "shell.execute_reply.started": "2025-04-19T19:44:53.351982Z",
          "shell.execute_reply": "2025-04-19T19:44:53.359936Z"
        },
        "id": "KUVB4_tT3Isj"
      },
      "outputs": [],
      "execution_count": null
    },
    {
      "cell_type": "code",
      "source": [
        "class EvaluationFramework:\n",
        "    def __init__(self):\n",
        "        self.bleu = load(\"bleu\")\n",
        "        self.rouge = load(\"rouge\")\n",
        "        self.embedding_model = SentenceTransformer('all-MiniLM-L6-v2')\n",
        "    def evaluate_text_generation(self, predictions, references):\n",
        "        bleu_results = self.bleu.compute(predictions=predictions, references=references)\n",
        "        rouge_results = self.rouge.compute(predictions=predictions, references=references)\n",
        "        return {\"bleu\": bleu_results, \"rouge\": rouge_results}\n",
        "    def evaluate_semantic_similarity(self, predictions, references):\n",
        "        pred_emb = self.embedding_model.encode(predictions)\n",
        "        ref_emb = self.embedding_model.encode(references)\n",
        "        similarities = [np.dot(p, r)/(np.linalg.norm(p)*np.linalg.norm(r)) for p, r in zip(pred_emb, ref_emb)]\n",
        "        return {\"average\": sum(similarities)/len(similarities), \"scores\": similarities}\n",
        "    def evaluate_rag_system(self, rag_system, test_queries, ground_truth_responses):\n",
        "        responses = [rag_system.generate_response(q) for q in test_queries]\n",
        "        text_metrics = self.evaluate_text_generation(responses, ground_truth_responses)\n",
        "        semantic_scores = self.evaluate_semantic_similarity(responses, ground_truth_responses)\n",
        "        return {\"text_metrics\": text_metrics, \"semantic\": semantic_scores}"
      ],
      "metadata": {
        "trusted": true,
        "execution": {
          "iopub.status.busy": "2025-04-19T19:40:48.252997Z",
          "iopub.execute_input": "2025-04-19T19:40:48.253600Z",
          "iopub.status.idle": "2025-04-19T19:40:48.259805Z",
          "shell.execute_reply.started": "2025-04-19T19:40:48.253574Z",
          "shell.execute_reply": "2025-04-19T19:40:48.259087Z"
        },
        "id": "BAiwyRL13Isl"
      },
      "outputs": [],
      "execution_count": null
    },
    {
      "cell_type": "code",
      "source": [
        "!pip install faiss-cpu"
      ],
      "metadata": {
        "trusted": true,
        "execution": {
          "iopub.status.busy": "2025-04-19T19:45:42.991218Z",
          "iopub.execute_input": "2025-04-19T19:45:42.991491Z",
          "iopub.status.idle": "2025-04-19T19:45:47.764878Z",
          "shell.execute_reply.started": "2025-04-19T19:45:42.991473Z",
          "shell.execute_reply": "2025-04-19T19:45:47.764106Z"
        },
        "id": "PeaE0eb43Ism",
        "outputId": "0a3d736f-5dc8-4cf1-e6e0-fc78e1a2f527"
      },
      "outputs": [
        {
          "name": "stderr",
          "text": "huggingface/tokenizers: The current process just got forked, after parallelism has already been used. Disabling parallelism to avoid deadlocks...\nTo disable this warning, you can either:\n\t- Avoid using `tokenizers` before the fork if possible\n\t- Explicitly set the environment variable TOKENIZERS_PARALLELISM=(true | false)\n",
          "output_type": "stream"
        },
        {
          "name": "stdout",
          "text": "Collecting faiss-cpu\n  Downloading faiss_cpu-1.10.0-cp311-cp311-manylinux_2_28_x86_64.whl.metadata (4.4 kB)\nRequirement already satisfied: numpy<3.0,>=1.25.0 in /usr/local/lib/python3.11/dist-packages (from faiss-cpu) (1.26.4)\nRequirement already satisfied: packaging in /usr/local/lib/python3.11/dist-packages (from faiss-cpu) (24.2)\nRequirement already satisfied: mkl_fft in /usr/local/lib/python3.11/dist-packages (from numpy<3.0,>=1.25.0->faiss-cpu) (1.3.8)\nRequirement already satisfied: mkl_random in /usr/local/lib/python3.11/dist-packages (from numpy<3.0,>=1.25.0->faiss-cpu) (1.2.4)\nRequirement already satisfied: mkl_umath in /usr/local/lib/python3.11/dist-packages (from numpy<3.0,>=1.25.0->faiss-cpu) (0.1.1)\nRequirement already satisfied: mkl in /usr/local/lib/python3.11/dist-packages (from numpy<3.0,>=1.25.0->faiss-cpu) (2025.1.0)\nRequirement already satisfied: tbb4py in /usr/local/lib/python3.11/dist-packages (from numpy<3.0,>=1.25.0->faiss-cpu) (2022.1.0)\nRequirement already satisfied: mkl-service in /usr/local/lib/python3.11/dist-packages (from numpy<3.0,>=1.25.0->faiss-cpu) (2.4.1)\nRequirement already satisfied: intel-openmp<2026,>=2024 in /usr/local/lib/python3.11/dist-packages (from mkl->numpy<3.0,>=1.25.0->faiss-cpu) (2024.2.0)\nRequirement already satisfied: tbb==2022.* in /usr/local/lib/python3.11/dist-packages (from mkl->numpy<3.0,>=1.25.0->faiss-cpu) (2022.1.0)\nRequirement already satisfied: tcmlib==1.* in /usr/local/lib/python3.11/dist-packages (from tbb==2022.*->mkl->numpy<3.0,>=1.25.0->faiss-cpu) (1.2.0)\nRequirement already satisfied: intel-cmplr-lib-rt in /usr/local/lib/python3.11/dist-packages (from mkl_umath->numpy<3.0,>=1.25.0->faiss-cpu) (2024.2.0)\nRequirement already satisfied: intel-cmplr-lib-ur==2024.2.0 in /usr/local/lib/python3.11/dist-packages (from intel-openmp<2026,>=2024->mkl->numpy<3.0,>=1.25.0->faiss-cpu) (2024.2.0)\nDownloading faiss_cpu-1.10.0-cp311-cp311-manylinux_2_28_x86_64.whl (30.7 MB)\n\u001b[2K   \u001b[90m━━━━━━━━━━━━━━━━━━━━━━━━━━━━━━━━━━━━━━━━\u001b[0m \u001b[32m30.7/30.7 MB\u001b[0m \u001b[31m53.6 MB/s\u001b[0m eta \u001b[36m0:00:00\u001b[0m:00:01\u001b[0m00:01\u001b[0m\n\u001b[?25hInstalling collected packages: faiss-cpu\nSuccessfully installed faiss-cpu-1.10.0\n",
          "output_type": "stream"
        }
      ],
      "execution_count": null
    },
    {
      "cell_type": "code",
      "source": [
        "texts = df['text'].tolist()\n",
        "rag = RetrievalAugmentedGeneration(\n",
        "    texts,\n",
        "    use_lora=True,\n",
        "    lora_path=\"./lora-nutrition\",\n",
        "    base_model=\"Qwen/Qwen2.5-3B-Instruct\"\n",
        ")\n",
        "nlp_processor = NutritionNLPProcessor()\n",
        "agent = MultimodalNutritionAgent(rag, nlp_processor)"
      ],
      "metadata": {
        "trusted": true,
        "execution": {
          "iopub.status.busy": "2025-04-19T20:15:53.523461Z",
          "iopub.execute_input": "2025-04-19T20:15:53.524051Z",
          "iopub.status.idle": "2025-04-19T20:16:03.519487Z",
          "shell.execute_reply.started": "2025-04-19T20:15:53.524029Z",
          "shell.execute_reply": "2025-04-19T20:16:03.518859Z"
        },
        "id": "YTB2JCMy3Isn",
        "outputId": "375cc9be-f927-4c4a-f023-bbcb273004bd",
        "colab": {
          "referenced_widgets": [
            "d51c023fcb674489ae9dc8852cdba122",
            "c7ef3e0442af4ba5b8fc4b454687200e"
          ]
        }
      },
      "outputs": [
        {
          "output_type": "display_data",
          "data": {
            "text/plain": "Batches:   0%|          | 0/47 [00:00<?, ?it/s]",
            "application/vnd.jupyter.widget-view+json": {
              "version_major": 2,
              "version_minor": 0,
              "model_id": "d51c023fcb674489ae9dc8852cdba122"
            }
          },
          "metadata": {}
        },
        {
          "name": "stdout",
          "text": "Loading fine-tuned LoRA model from ./lora-nutrition...\n",
          "output_type": "stream"
        },
        {
          "output_type": "display_data",
          "data": {
            "text/plain": "Loading checkpoint shards:   0%|          | 0/2 [00:00<?, ?it/s]",
            "application/vnd.jupyter.widget-view+json": {
              "version_major": 2,
              "version_minor": 0,
              "model_id": "c7ef3e0442af4ba5b8fc4b454687200e"
            }
          },
          "metadata": {}
        },
        {
          "name": "stdout",
          "text": "Successfully loaded Qwen LoRA model\n",
          "output_type": "stream"
        }
      ],
      "execution_count": null
    },
    {
      "cell_type": "code",
      "source": [
        "print(\"\\n===== Testing LoRA-Enhanced Nutritional Agent with Qwen2.5 =====\\n\")\n",
        "\n",
        "response_cot = agent.process_text_query(\"What are the health benefits of avocados?\", reasoning_technique=\"chain_of_thought\")\n",
        "print(\"\\nChain of Thought Response:\")\n",
        "print(response_cot[\"response\"])\n",
        "print(\"\\n\" + \"=\"*50)"
      ],
      "metadata": {
        "trusted": true,
        "execution": {
          "iopub.status.busy": "2025-04-19T19:52:37.293491Z",
          "iopub.execute_input": "2025-04-19T19:52:37.294109Z",
          "iopub.status.idle": "2025-04-19T19:53:19.449844Z",
          "shell.execute_reply.started": "2025-04-19T19:52:37.294086Z",
          "shell.execute_reply": "2025-04-19T19:53:19.449150Z"
        },
        "id": "XZc4JK-83Isn",
        "outputId": "21f3b22b-a43f-4595-a57b-289a5be3cd58",
        "colab": {
          "referenced_widgets": [
            "1b40187b7f4f41feb3fa5f3dffb1775c"
          ]
        }
      },
      "outputs": [
        {
          "name": "stdout",
          "text": "\n===== Testing LoRA-Enhanced Nutritional Agent with Qwen2.5 =====\n\n",
          "output_type": "stream"
        },
        {
          "output_type": "display_data",
          "data": {
            "text/plain": "Batches:   0%|          | 0/1 [00:00<?, ?it/s]",
            "application/vnd.jupyter.widget-view+json": {
              "version_major": 2,
              "version_minor": 0,
              "model_id": "1b40187b7f4f41feb3fa5f3dffb1775c"
            }
          },
          "metadata": {}
        },
        {
          "name": "stdout",
          "text": "Warning: Input length is 815, truncating context\n\nChain of Thought Response:\nContext:\nThere is no one-size-fits-all answer to this question, as everyone's dietary needs and preferences are different. However, incorporating avocados into your diet in various forms can be a great way to reap their health benefits. You could try adding them to salads, sandwiches, or smoothies, or using them as a dip or spread with whole-grain crackers or pita bread. You could also use avocado oil instead of other oils when cooking or baking. As always, it's important to remember to consume avocados in moderation as they are high in calories. <|user|>\nThat's great advice! Do you have any tips on how to choose ripe avocados at the store? <\n\n==================================================\n",
          "output_type": "stream"
        }
      ],
      "execution_count": null
    },
    {
      "cell_type": "code",
      "source": [
        "response_got = agent.process_text_query(\"How do proteins, fats, and carbohydrates work together?\", reasoning_technique=\"graph_of_thought\")\n",
        "print(\"\\nGraph of Thought Response:\")\n",
        "print(response_got[\"response\"])\n",
        "print(\"\\n\" + \"=\"*50)"
      ],
      "metadata": {
        "trusted": true,
        "execution": {
          "iopub.status.busy": "2025-04-19T19:54:50.524618Z",
          "iopub.execute_input": "2025-04-19T19:54:50.524932Z",
          "iopub.status.idle": "2025-04-19T19:55:33.187939Z",
          "shell.execute_reply.started": "2025-04-19T19:54:50.524909Z",
          "shell.execute_reply": "2025-04-19T19:55:33.187244Z"
        },
        "id": "f99KevpK3Iso",
        "outputId": "78091404-4ff7-405a-8da2-c7971421245a",
        "colab": {
          "referenced_widgets": [
            "22c1f152d03748ee8c149b79d0e8e63c"
          ]
        }
      },
      "outputs": [
        {
          "output_type": "display_data",
          "data": {
            "text/plain": "Batches:   0%|          | 0/1 [00:00<?, ?it/s]",
            "application/vnd.jupyter.widget-view+json": {
              "version_major": 2,
              "version_minor": 0,
              "model_id": "22c1f152d03748ee8c149b79d0e8e63c"
            }
          },
          "metadata": {}
        },
        {
          "name": "stdout",
          "text": "\nGraph of Thought Response:\nIncorporating healthy fats into your diet doesn't have to be complicated. Here are a few simple ways to start:\n\n1. Avocado: Add slices or guacamole to your sandwiches, salads, or wraps.\n2. Nuts and Seeds: Snack on nuts, seeds, or a handful of dried fruit.\n3. Olive Oil: Use it for cooking, baking, or as a salad dressing.\n4. Chia Seeds: Sprinkle them on oatmeal, smoothies, or yogurt.\n\n==================================================\n",
          "output_type": "stream"
        }
      ],
      "execution_count": null
    },
    {
      "cell_type": "code",
      "source": [
        "from collections import Counter\n",
        "\n",
        "# Create an empty Counter to store POS counts for the entire dataset\n",
        "all_pos_counts = Counter()\n",
        "\n",
        "# Iterate over each row of the dataset (assuming df['text'] contains the text data)\n",
        "for text in df['text']:\n",
        "    pos_results = nlp_processor.perform_pos_tagging(text)\n",
        "\n",
        "    # Update the overall POS counts for this example\n",
        "    all_pos_counts.update(pos_results)\n",
        "\n",
        "# Display the overall POS distribution for the entire dataset\n",
        "print(\"POS Distribution for the entire dataset:\")\n",
        "for pos, count in sorted(all_pos_counts.items(), key=lambda x: x[1], reverse=True):\n",
        "    print(f\"  {pos}: {count}\")\n",
        "print(\"\\n\" + \"-\"*50)\n"
      ],
      "metadata": {
        "trusted": true,
        "execution": {
          "iopub.status.busy": "2025-04-19T20:11:27.165807Z",
          "iopub.execute_input": "2025-04-19T20:11:27.166106Z",
          "iopub.status.idle": "2025-04-19T20:12:09.409901Z",
          "shell.execute_reply.started": "2025-04-19T20:11:27.166085Z",
          "shell.execute_reply": "2025-04-19T20:12:09.409177Z"
        },
        "id": "2KpS_2du3Iso",
        "outputId": "ddbe65ba-f6f8-4919-f613-a630ed24251c"
      },
      "outputs": [
        {
          "name": "stdout",
          "text": "POS Distribution for the entire dataset:\n  NOUN: 55035\n  VERB: 30327\n  ADJ: 29944\n  PUNCT: 27557\n  X: 26794\n  PRON: 26295\n  ADP: 21939\n  AUX: 18080\n  DET: 16430\n  CCONJ: 10341\n  ADV: 6752\n  PART: 6343\n  SPACE: 4767\n  SCONJ: 4332\n  PROPN: 2462\n  NUM: 1015\n  INTJ: 262\n  SYM: 20\n\n--------------------------------------------------\n",
          "output_type": "stream"
        }
      ],
      "execution_count": null
    },
    {
      "cell_type": "code",
      "source": [
        "print(\"\\n3. Visualizing Word Embeddings from Dataset with t-SNE:\")\n",
        "# Select a reasonable number of examples to avoid memory issues\n",
        "dataset_viz_samples = df['text'].iloc[:].tolist()\n",
        "nlp_processor.visualize_embeddings_tsne(dataset_viz_samples, top_n=30)\n",
        "print(\"Visualization completed. Check the plot window.\")"
      ],
      "metadata": {
        "trusted": true,
        "execution": {
          "iopub.status.busy": "2025-04-19T20:16:15.103329Z",
          "iopub.execute_input": "2025-04-19T20:16:15.103956Z",
          "iopub.status.idle": "2025-04-19T20:16:17.144981Z",
          "shell.execute_reply.started": "2025-04-19T20:16:15.103930Z",
          "shell.execute_reply": "2025-04-19T20:16:17.144227Z"
        },
        "id": "_jk5hI2A3Isp",
        "outputId": "f87ee3b0-66e3-4b44-8ab4-6e31b154fcde",
        "colab": {
          "referenced_widgets": [
            "a53330d78bd947f4923272703553ac9a"
          ]
        }
      },
      "outputs": [
        {
          "name": "stdout",
          "text": "\n3. Visualizing Word Embeddings from Dataset with t-SNE:\n",
          "output_type": "stream"
        },
        {
          "output_type": "display_data",
          "data": {
            "text/plain": "Batches:   0%|          | 0/1 [00:00<?, ?it/s]",
            "application/vnd.jupyter.widget-view+json": {
              "version_major": 2,
              "version_minor": 0,
              "model_id": "a53330d78bd947f4923272703553ac9a"
            }
          },
          "metadata": {}
        },
        {
          "output_type": "display_data",
          "data": {
            "text/plain": "<Figure size 1200x800 with 1 Axes>",
            "image/png": "[encoded data removed]"
          },
          "metadata": {}
        },
        {
          "name": "stdout",
          "text": "Visualization completed. Check the plot window.\n",
          "output_type": "stream"
        }
      ],
      "execution_count": null
    },
    {
      "cell_type": "code",
      "source": [
        "test_queries = df['User'].iloc[:3].tolist()\n"
      ],
      "metadata": {
        "trusted": true,
        "execution": {
          "iopub.status.busy": "2025-04-19T20:27:26.551659Z",
          "iopub.execute_input": "2025-04-19T20:27:26.551971Z",
          "iopub.status.idle": "2025-04-19T20:27:26.556384Z",
          "shell.execute_reply.started": "2025-04-19T20:27:26.551950Z",
          "shell.execute_reply": "2025-04-19T20:27:26.555623Z"
        },
        "id": "Jzsi2azl3Isp"
      },
      "outputs": [],
      "execution_count": null
    },
    {
      "cell_type": "code",
      "source": [
        "responses = []\n",
        "for i, query in enumerate(test_queries):\n",
        "    # Use query excerpt for display if too long\n",
        "    display_query = query[:80] + \"...\" if len(query) > 80 else query\n",
        "\n",
        "    # Alternate reasoning techniques\n",
        "    reasoning_technique = [\"chain_of_thought\", \"graph_of_thought\", \"tree_of_thought\"][i % 3]\n",
        "\n",
        "    print(f\"Query {i+1}: '{display_query}' (using {reasoning_technique})\")\n",
        "    response = agent.process_text_query(query, reasoning_technique=reasoning_technique)\n",
        "    responses.append(response[\"response\"])\n",
        "    print(f\"Response: '{response['response'][:100]}...'\")\n",
        "    print(\"-\"*30)\n",
        "print(\"\\n\" + \"-\"*50)"
      ],
      "metadata": {
        "trusted": true,
        "execution": {
          "iopub.status.busy": "2025-04-19T20:28:11.300827Z",
          "iopub.execute_input": "2025-04-19T20:28:11.301135Z",
          "iopub.status.idle": "2025-04-19T20:30:17.895184Z",
          "shell.execute_reply.started": "2025-04-19T20:28:11.301112Z",
          "shell.execute_reply": "2025-04-19T20:30:17.894421Z"
        },
        "id": "TBUgdfqj3Isp",
        "outputId": "f4c7c20d-4085-4a12-a8aa-730db7785ee9",
        "colab": {
          "referenced_widgets": [
            "9eb5471883d74557b7c7e7fc3f3c55bb",
            "e7e8ba825e584bc0866f6f60da0ba059",
            "1a98f61f43ab46b6bf004d9cb14594e4"
          ]
        }
      },
      "outputs": [
        {
          "name": "stdout",
          "text": "Query 1: 'I've been trying to lose some weight and get in shape, but I love ground lean as...' (using chain_of_thought)\n",
          "output_type": "stream"
        },
        {
          "output_type": "display_data",
          "data": {
            "text/plain": "Batches:   0%|          | 0/1 [00:00<?, ?it/s]",
            "application/vnd.jupyter.widget-view+json": {
              "version_major": 2,
              "version_minor": 0,
              "model_id": "9eb5471883d74557b7c7e7fc3f3c55bb"
            }
          },
          "metadata": {}
        },
        {
          "name": "stdout",
          "text": "Warning: Input length is 703, truncating context\nResponse: 'Context:\n<s>\nAbsolutely! Here are a few ideas for incorporating ground lean into your meals:\n\n1. Bre...'\n------------------------------\nQuery 2: 'Can I still enjoy artichokes despite having heart disease, or will it worsen my ...' (using graph_of_thought)\n",
          "output_type": "stream"
        },
        {
          "output_type": "display_data",
          "data": {
            "text/plain": "Batches:   0%|          | 0/1 [00:00<?, ?it/s]",
            "application/vnd.jupyter.widget-view+json": {
              "version_major": 2,
              "version_minor": 0,
              "model_id": "e7e8ba825e584bc0866f6f60da0ba059"
            }
          },
          "metadata": {}
        },
        {
          "name": "stdout",
          "text": "Warning: Input length is 602, truncating context\nResponse: 'The amount of vegetables you should eat per day depends on your individual caloric needs and overall...'\n------------------------------\nQuery 3: 'What are the best ways to incorporate dandelion greens into my diet, considering...' (using tree_of_thought)\n",
          "output_type": "stream"
        },
        {
          "output_type": "display_data",
          "data": {
            "text/plain": "Batches:   0%|          | 0/1 [00:00<?, ?it/s]",
            "application/vnd.jupyter.widget-view+json": {
              "version_major": 2,
              "version_minor": 0,
              "model_id": "1a98f61f43ab46b6bf004d9cb14594e4"
            }
          },
          "metadata": {}
        },
        {
          "name": "stdout",
          "text": "Warning: Input length is 709, truncating context\nResponse: 'Context:\n<s>\nWhile all the...'\n------------------------------\n\n--------------------------------------------------\n",
          "output_type": "stream"
        }
      ],
      "execution_count": null
    },
    {
      "cell_type": "code",
      "source": [
        "test_indices = np.random.choice(len(df), min(5, len(df)), replace=False)\n",
        "test_examples = []\n",
        "for idx in test_indices:\n",
        "    test_examples.append({\n",
        "        \"user_query\": df['User'].iloc[idx],\n",
        "        \"reference_response\": df['Nutritionist'].iloc[idx],\n",
        "        \"index\": idx\n",
        "    })\n",
        "print(f\"Selected {len(test_examples)} User/Nutritionist pairs from dataset\")"
      ],
      "metadata": {
        "trusted": true,
        "execution": {
          "iopub.status.busy": "2025-04-19T20:44:01.958846Z",
          "iopub.execute_input": "2025-04-19T20:44:01.959390Z",
          "iopub.status.idle": "2025-04-19T20:44:01.966857Z",
          "shell.execute_reply.started": "2025-04-19T20:44:01.959364Z",
          "shell.execute_reply": "2025-04-19T20:44:01.966128Z"
        },
        "id": "ZCbtoAMU3Isq",
        "outputId": "df7f390d-fb31-41ac-d65e-4a1168a72e69"
      },
      "outputs": [
        {
          "name": "stdout",
          "text": "Selected 5 User/Nutritionist pairs from dataset\n",
          "output_type": "stream"
        }
      ],
      "execution_count": null
    },
    {
      "cell_type": "code",
      "source": [
        "evaluator = EvaluationFramework()\n",
        "\n",
        "for i, example in enumerate(test_examples):\n",
        "    print(f\"\\nProcessing example {i+1}/{len(test_examples)}:\")\n",
        "\n",
        "    query = example[\"user_query\"]\n",
        "    reference = example[\"reference_response\"]\n",
        "\n",
        "    # Truncate for display if needed\n",
        "    display_query = query[:80] + \"...\" if len(query) > 80 else query\n",
        "    print(f\"Query: '{display_query}'\")\n",
        "\n",
        "\n",
        "\n",
        "    # 3.2. Generate responses with different reasoning techniques\n",
        "    reasoning_techniques = [\"chain_of_thought\", \"graph_of_thought\", \"tree_of_thought\"]\n",
        "    technique_results = {}\n",
        "\n",
        "    for technique in reasoning_techniques:\n",
        "        print(f\"\\nGenerating response using {technique}:\")\n",
        "        response_data = agent.process_text_query(query, reasoning_technique=technique)\n",
        "        response = response_data[\"response\"]\n",
        "\n",
        "        # Truncate for display\n",
        "        display_response = response[:100] + \"...\" if len(response) > 100 else response\n",
        "        print(f\"Response: '{display_response}'\")\n",
        "\n",
        "        # 3.3. Evaluate this specific response against reference\n",
        "        # Calculate individual metrics for this response\n",
        "        bleu_score = evaluator.bleu.compute(predictions=[response], references=[[reference]])[\"bleu\"]\n",
        "        rouge_scores = evaluator.rouge.compute(predictions=[response], references=[reference])\n",
        "\n",
        "        # Calculate semantic similarity\n",
        "        response_emb = evaluator.embedding_model.encode([response])[0]\n",
        "        reference_emb = evaluator.embedding_model.encode([reference])[0]\n",
        "        similarity = np.dot(response_emb, reference_emb) / (np.linalg.norm(response_emb) * np.linalg.norm(reference_emb))\n",
        "\n",
        "        print(f\"Evaluation metrics:\")\n",
        "        print(f\"  BLEU: {bleu_score:.4f}\")\n",
        "        print(f\"  ROUGE-1: {rouge_scores['rouge1']:.4f}\")\n",
        "        print(f\"  Semantic similarity: {similarity:.4f}\")\n",
        "\n",
        "        # Store results for this technique\n",
        "        technique_results[technique] = {\n",
        "            \"response\": response,\n",
        "            \"bleu\": bleu_score,\n",
        "            \"rouge1\": rouge_scores['rouge1'],\n",
        "            \"rouge2\": rouge_scores['rouge2'],\n",
        "            \"rougeL\": rouge_scores['rougeL'],\n",
        "            \"similarity\": similarity\n",
        "        }\n",
        "\n",
        "    # Find best technique for this example\n",
        "    best_technique = max(technique_results.items(), key=lambda x: x[1][\"similarity\"])[0]\n",
        "\n",
        "    print(f\"\\nBest reasoning technique for this example: {best_technique}\")\n",
        "    print(f\"Best semantic similarity score: {technique_results[best_technique]['similarity']:.4f}\")"
      ],
      "metadata": {
        "trusted": true,
        "execution": {
          "iopub.status.busy": "2025-04-19T20:45:47.709020Z",
          "iopub.execute_input": "2025-04-19T20:45:47.709337Z",
          "iopub.status.idle": "2025-04-19T20:56:18.952397Z",
          "shell.execute_reply.started": "2025-04-19T20:45:47.709314Z",
          "shell.execute_reply": "2025-04-19T20:56:18.951466Z"
        },
        "id": "YYw4JIWT3Isq",
        "outputId": "3352b5ef-ef0a-4123-95ed-ddb5166e2ad8",
        "colab": {
          "referenced_widgets": [
            "6f43c2a9e0704a96965c4a60895bcf21",
            "ef9cacb928024bad88f234f5dcbc1a18",
            "e3c3d9a631704cf0935a773660b5a67e",
            "44474531aa524746afb209bf35c6d4b6",
            "5f2ba7d810db495fa44e53e388d5de50",
            "1954ee025d2c4945879ef52befb4bc98",
            "55f86255356a49cf8e6cdc05bf4a19d8",
            "89f8d796eeee46a7b6a920aca8f1b324",
            "9b936369a577428d93687b80aac339d4",
            "a06276df896a45e08bdfecd5f3bdd3d9",
            "91449563985549a0ac8c9d435956f44b",
            "44659b4487814894a228e09a895ed552",
            "ab377be96d204f4da56ccd59356fb016",
            "bec15c966999434b9492288ba36f3cce",
            "d075b5a90ee74f3aa252cdfe3af90f2a",
            "72dbcfbef7e0490ea0cce82fd42cdcd1",
            "c03c71bedbc84e3aa6d1ff6369529240",
            "23ac41e7500f43aa9477e2da92cc7218",
            "13f8ab2ae2f54a9fb64a346b27cc25d3",
            "e95cbd68ccdd4acfa835b63b2034cb7d",
            "43f72c5045934638bac6fcd0f93752b2",
            "2f34088f4eb946f49f9fcfe316e92095",
            "8b6e5f62b5d94a5988c8425ff39bcc18",
            "4530d325b05c427c8086a3d61bdbaa5e",
            "81fc7954b5aa4c23b8862cd87b88e6d8",
            "527882f97f6140b1a8a44f2d810222c7",
            "d914704ca14a4785bc2e3cf1bd8380fc",
            "9b7967a3dff74a919a4c7bba4dc639cf",
            "3ee6796dbc69450dac56ca8018dc5fca",
            "adcd7c06adc64b3fbef96763023cd311",
            "0838921b433f48359c8ec98b12b12c26",
            "d548407a26e34101b583a8eca7d5b800",
            "c94ee810920e497aa7301bce38ce9149",
            "110618337c374c8783aa38a8396990f1",
            "1b6bee02b28249c1872c2a4a0d61cb50",
            "5a8cc989dc6847c683448b876043cb21",
            "7767d68a3c394c6c82461b28067f4e2f",
            "ae5eb83e814343d6a5249d053ec58e16",
            "04d1b981b08046f19c81458c71d61437",
            "47df73ca18cb49c5a208201a45f22416",
            "769a3b14a5d3436482f8a6ca5e63fd92",
            "41c380ddbe554716805d16f0939be257",
            "067bbd4765e24926a01004a571a2ba88",
            "931bb9e99b3b40b2b331b1722875a0a0",
            "3d0bbc16f4594257a1c4a67b590adbf6",
            "2f3e05c7a8fa4244b4cd4ff65b7313a3",
            "32a0d980028c4dabb33f835975e653be",
            "7fb91807a6db4e9e93996d28cbafba56",
            "6cada3ebafc846fbb464488442837db9"
          ]
        }
      },
      "outputs": [
        {
          "output_type": "display_data",
          "data": {
            "text/plain": "Downloading builder script:   0%|          | 0.00/5.94k [00:00<?, ?B/s]",
            "application/vnd.jupyter.widget-view+json": {
              "version_major": 2,
              "version_minor": 0,
              "model_id": "6f43c2a9e0704a96965c4a60895bcf21"
            }
          },
          "metadata": {}
        },
        {
          "output_type": "display_data",
          "data": {
            "text/plain": "Downloading extra modules:   0%|          | 0.00/1.55k [00:00<?, ?B/s]",
            "application/vnd.jupyter.widget-view+json": {
              "version_major": 2,
              "version_minor": 0,
              "model_id": "ef9cacb928024bad88f234f5dcbc1a18"
            }
          },
          "metadata": {}
        },
        {
          "output_type": "display_data",
          "data": {
            "text/plain": "Downloading extra modules:   0%|          | 0.00/3.34k [00:00<?, ?B/s]",
            "application/vnd.jupyter.widget-view+json": {
              "version_major": 2,
              "version_minor": 0,
              "model_id": "e3c3d9a631704cf0935a773660b5a67e"
            }
          },
          "metadata": {}
        },
        {
          "output_type": "display_data",
          "data": {
            "text/plain": "Downloading builder script:   0%|          | 0.00/6.27k [00:00<?, ?B/s]",
            "application/vnd.jupyter.widget-view+json": {
              "version_major": 2,
              "version_minor": 0,
              "model_id": "44474531aa524746afb209bf35c6d4b6"
            }
          },
          "metadata": {}
        },
        {
          "name": "stdout",
          "text": "\nProcessing example 1/5:\nQuery: 'I'm trying to incorporate more healthy fats into my diet as a 76-year-old with h...'\n\nGenerating response using chain_of_thought:\n",
          "output_type": "stream"
        },
        {
          "output_type": "display_data",
          "data": {
            "text/plain": "Batches:   0%|          | 0/1 [00:00<?, ?it/s]",
            "application/vnd.jupyter.widget-view+json": {
              "version_major": 2,
              "version_minor": 0,
              "model_id": "5f2ba7d810db495fa44e53e388d5de50"
            }
          },
          "metadata": {}
        },
        {
          "name": "stdout",
          "text": "Warning: Input length is 637, truncating context\nResponse: 'Context:\n[s] Based on the assistant's response, what are the potential benefits and drawbacks of inc...'\n",
          "output_type": "stream"
        },
        {
          "output_type": "display_data",
          "data": {
            "text/plain": "Batches:   0%|          | 0/1 [00:00<?, ?it/s]",
            "application/vnd.jupyter.widget-view+json": {
              "version_major": 2,
              "version_minor": 0,
              "model_id": "1954ee025d2c4945879ef52befb4bc98"
            }
          },
          "metadata": {}
        },
        {
          "output_type": "display_data",
          "data": {
            "text/plain": "Batches:   0%|          | 0/1 [00:00<?, ?it/s]",
            "application/vnd.jupyter.widget-view+json": {
              "version_major": 2,
              "version_minor": 0,
              "model_id": "55f86255356a49cf8e6cdc05bf4a19d8"
            }
          },
          "metadata": {}
        },
        {
          "name": "stdout",
          "text": "Evaluation metrics:\n  BLEU: 0.0422\n  ROUGE-1: 0.2825\n  Semantic similarity: 0.8423\n\nGenerating response using graph_of_thought:\n",
          "output_type": "stream"
        },
        {
          "output_type": "display_data",
          "data": {
            "text/plain": "Batches:   0%|          | 0/1 [00:00<?, ?it/s]",
            "application/vnd.jupyter.widget-view+json": {
              "version_major": 2,
              "version_minor": 0,
              "model_id": "89f8d796eeee46a7b6a920aca8f1b324"
            }
          },
          "metadata": {}
        },
        {
          "name": "stdout",
          "text": "Warning: Input length is 634, truncating context\nResponse: '<s>[INST] >\n\nOf course! Here are a few recipes that you might enjoy incorporating safflower seed oil...'\n",
          "output_type": "stream"
        },
        {
          "output_type": "display_data",
          "data": {
            "text/plain": "Batches:   0%|          | 0/1 [00:00<?, ?it/s]",
            "application/vnd.jupyter.widget-view+json": {
              "version_major": 2,
              "version_minor": 0,
              "model_id": "9b936369a577428d93687b80aac339d4"
            }
          },
          "metadata": {}
        },
        {
          "output_type": "display_data",
          "data": {
            "text/plain": "Batches:   0%|          | 0/1 [00:00<?, ?it/s]",
            "application/vnd.jupyter.widget-view+json": {
              "version_major": 2,
              "version_minor": 0,
              "model_id": "a06276df896a45e08bdfecd5f3bdd3d9"
            }
          },
          "metadata": {}
        },
        {
          "name": "stdout",
          "text": "Evaluation metrics:\n  BLEU: 0.0000\n  ROUGE-1: 0.1636\n  Semantic similarity: 0.5117\n\nGenerating response using tree_of_thought:\n",
          "output_type": "stream"
        },
        {
          "output_type": "display_data",
          "data": {
            "text/plain": "Batches:   0%|          | 0/1 [00:00<?, ?it/s]",
            "application/vnd.jupyter.widget-view+json": {
              "version_major": 2,
              "version_minor": 0,
              "model_id": "91449563985549a0ac8c9d435956f44b"
            }
          },
          "metadata": {}
        },
        {
          "name": "stdout",
          "text": "Warning: Input length is 638, truncating context\nResponse: 'Context:\n<s>[INST] <<SYS>>\n<s>\nYes, there are several ways to add healthy fats to your diet. Here ar...'\n",
          "output_type": "stream"
        },
        {
          "output_type": "display_data",
          "data": {
            "text/plain": "Batches:   0%|          | 0/1 [00:00<?, ?it/s]",
            "application/vnd.jupyter.widget-view+json": {
              "version_major": 2,
              "version_minor": 0,
              "model_id": "44659b4487814894a228e09a895ed552"
            }
          },
          "metadata": {}
        },
        {
          "output_type": "display_data",
          "data": {
            "text/plain": "Batches:   0%|          | 0/1 [00:00<?, ?it/s]",
            "application/vnd.jupyter.widget-view+json": {
              "version_major": 2,
              "version_minor": 0,
              "model_id": "ab377be96d204f4da56ccd59356fb016"
            }
          },
          "metadata": {}
        },
        {
          "name": "stdout",
          "text": "Evaluation metrics:\n  BLEU: 0.0000\n  ROUGE-1: 0.2549\n  Semantic similarity: 0.5125\n\nBest reasoning technique for this example: chain_of_thought\nBest semantic similarity score: 0.8423\n\nProcessing example 2/5:\nQuery: 'Should I be concerned about eating cream cheese considering my history of heart ...'\n\nGenerating response using chain_of_thought:\n",
          "output_type": "stream"
        },
        {
          "output_type": "display_data",
          "data": {
            "text/plain": "Batches:   0%|          | 0/1 [00:00<?, ?it/s]",
            "application/vnd.jupyter.widget-view+json": {
              "version_major": 2,
              "version_minor": 0,
              "model_id": "bec15c966999434b9492288ba36f3cce"
            }
          },
          "metadata": {}
        },
        {
          "name": "stdout",
          "text": "Warning: Input length is 686, truncating context\nResponse: 'Absolutely! Here’s a simple recipe for making'\n",
          "output_type": "stream"
        },
        {
          "output_type": "display_data",
          "data": {
            "text/plain": "Batches:   0%|          | 0/1 [00:00<?, ?it/s]",
            "application/vnd.jupyter.widget-view+json": {
              "version_major": 2,
              "version_minor": 0,
              "model_id": "d075b5a90ee74f3aa252cdfe3af90f2a"
            }
          },
          "metadata": {}
        },
        {
          "output_type": "display_data",
          "data": {
            "text/plain": "Batches:   0%|          | 0/1 [00:00<?, ?it/s]",
            "application/vnd.jupyter.widget-view+json": {
              "version_major": 2,
              "version_minor": 0,
              "model_id": "72dbcfbef7e0490ea0cce82fd42cdcd1"
            }
          },
          "metadata": {}
        },
        {
          "name": "stdout",
          "text": "Evaluation metrics:\n  BLEU: 0.0000\n  ROUGE-1: 0.0472\n  Semantic similarity: 0.1926\n\nGenerating response using graph_of_thought:\n",
          "output_type": "stream"
        },
        {
          "output_type": "display_data",
          "data": {
            "text/plain": "Batches:   0%|          | 0/1 [00:00<?, ?it/s]",
            "application/vnd.jupyter.widget-view+json": {
              "version_major": 2,
              "version_minor": 0,
              "model_id": "c03c71bedbc84e3aa6d1ff6369529240"
            }
          },
          "metadata": {}
        },
        {
          "name": "stdout",
          "text": "Warning: Input length is 683, truncating context\nResponse: 'Context:\n[solved]\nYou're welcome! Remember that making small changes can add up to big benefits. Goo...'\n",
          "output_type": "stream"
        },
        {
          "output_type": "display_data",
          "data": {
            "text/plain": "Batches:   0%|          | 0/1 [00:00<?, ?it/s]",
            "application/vnd.jupyter.widget-view+json": {
              "version_major": 2,
              "version_minor": 0,
              "model_id": "23ac41e7500f43aa9477e2da92cc7218"
            }
          },
          "metadata": {}
        },
        {
          "output_type": "display_data",
          "data": {
            "text/plain": "Batches:   0%|          | 0/1 [00:00<?, ?it/s]",
            "application/vnd.jupyter.widget-view+json": {
              "version_major": 2,
              "version_minor": 0,
              "model_id": "13f8ab2ae2f54a9fb64a346b27cc25d3"
            }
          },
          "metadata": {}
        },
        {
          "name": "stdout",
          "text": "Evaluation metrics:\n  BLEU: 0.0000\n  ROUGE-1: 0.2609\n  Semantic similarity: 0.6191\n\nGenerating response using tree_of_thought:\n",
          "output_type": "stream"
        },
        {
          "output_type": "display_data",
          "data": {
            "text/plain": "Batches:   0%|          | 0/1 [00:00<?, ?it/s]",
            "application/vnd.jupyter.widget-view+json": {
              "version_major": 2,
              "version_minor": 0,
              "model_id": "e95cbd68ccdd4acfa835b63b2034cb7d"
            }
          },
          "metadata": {}
        },
        {
          "name": "stdout",
          "text": "Warning: Input length is 687, truncating context\nResponse: 'Context:\n[solved]\nAnswer: Yes, there are several benefits to using coconut oil for skin care. Coconu...'\n",
          "output_type": "stream"
        },
        {
          "output_type": "display_data",
          "data": {
            "text/plain": "Batches:   0%|          | 0/1 [00:00<?, ?it/s]",
            "application/vnd.jupyter.widget-view+json": {
              "version_major": 2,
              "version_minor": 0,
              "model_id": "43f72c5045934638bac6fcd0f93752b2"
            }
          },
          "metadata": {}
        },
        {
          "output_type": "display_data",
          "data": {
            "text/plain": "Batches:   0%|          | 0/1 [00:00<?, ?it/s]",
            "application/vnd.jupyter.widget-view+json": {
              "version_major": 2,
              "version_minor": 0,
              "model_id": "2f34088f4eb946f49f9fcfe316e92095"
            }
          },
          "metadata": {}
        },
        {
          "name": "stdout",
          "text": "Evaluation metrics:\n  BLEU: 0.0000\n  ROUGE-1: 0.1854\n  Semantic similarity: 0.2402\n\nBest reasoning technique for this example: graph_of_thought\nBest semantic similarity score: 0.6191\n\nProcessing example 3/5:\nQuery: 'Should I be worried about consuming crab meat when I'm trying to lose weight and...'\n\nGenerating response using chain_of_thought:\n",
          "output_type": "stream"
        },
        {
          "output_type": "display_data",
          "data": {
            "text/plain": "Batches:   0%|          | 0/1 [00:00<?, ?it/s]",
            "application/vnd.jupyter.widget-view+json": {
              "version_major": 2,
              "version_minor": 0,
              "model_id": "8b6e5f62b5d94a5988c8425ff39bcc18"
            }
          },
          "metadata": {}
        },
        {
          "name": "stdout",
          "text": "Warning: Input length is 693, truncating context\nResponse: 'Context:\n[s]\n<s>[INST] <<SYS>>\nAnswer: Crab meat is a great source of protein and can be a'\n",
          "output_type": "stream"
        },
        {
          "output_type": "display_data",
          "data": {
            "text/plain": "Batches:   0%|          | 0/1 [00:00<?, ?it/s]",
            "application/vnd.jupyter.widget-view+json": {
              "version_major": 2,
              "version_minor": 0,
              "model_id": "4530d325b05c427c8086a3d61bdbaa5e"
            }
          },
          "metadata": {}
        },
        {
          "output_type": "display_data",
          "data": {
            "text/plain": "Batches:   0%|          | 0/1 [00:00<?, ?it/s]",
            "application/vnd.jupyter.widget-view+json": {
              "version_major": 2,
              "version_minor": 0,
              "model_id": "81fc7954b5aa4c23b8862cd87b88e6d8"
            }
          },
          "metadata": {}
        },
        {
          "name": "stdout",
          "text": "Evaluation metrics:\n  BLEU: 0.0000\n  ROUGE-1: 0.1472\n  Semantic similarity: 0.5786\n\nGenerating response using graph_of_thought:\n",
          "output_type": "stream"
        },
        {
          "output_type": "display_data",
          "data": {
            "text/plain": "Batches:   0%|          | 0/1 [00:00<?, ?it/s]",
            "application/vnd.jupyter.widget-view+json": {
              "version_major": 2,
              "version_minor": 0,
              "model_id": "527882f97f6140b1a8a44f2d810222c7"
            }
          },
          "metadata": {}
        },
        {
          "name": "stdout",
          "text": "Warning: Input length is 690, truncating context\nResponse: 'Context:\n[s]\n<s>[INST] <<SYS>>\n<s>[INST] Context:\n[USER]\nYou're a nutritionist. Based on the informa...'\n",
          "output_type": "stream"
        },
        {
          "output_type": "display_data",
          "data": {
            "text/plain": "Batches:   0%|          | 0/1 [00:00<?, ?it/s]",
            "application/vnd.jupyter.widget-view+json": {
              "version_major": 2,
              "version_minor": 0,
              "model_id": "d914704ca14a4785bc2e3cf1bd8380fc"
            }
          },
          "metadata": {}
        },
        {
          "output_type": "display_data",
          "data": {
            "text/plain": "Batches:   0%|          | 0/1 [00:00<?, ?it/s]",
            "application/vnd.jupyter.widget-view+json": {
              "version_major": 2,
              "version_minor": 0,
              "model_id": "9b7967a3dff74a919a4c7bba4dc639cf"
            }
          },
          "metadata": {}
        },
        {
          "name": "stdout",
          "text": "Evaluation metrics:\n  BLEU: 0.0000\n  ROUGE-1: 0.1919\n  Semantic similarity: 0.3064\n\nGenerating response using tree_of_thought:\n",
          "output_type": "stream"
        },
        {
          "output_type": "display_data",
          "data": {
            "text/plain": "Batches:   0%|          | 0/1 [00:00<?, ?it/s]",
            "application/vnd.jupyter.widget-view+json": {
              "version_major": 2,
              "version_minor": 0,
              "model_id": "3ee6796dbc69450dac56ca8018dc5fca"
            }
          },
          "metadata": {}
        },
        {
          "name": "stdout",
          "text": "Warning: Input length is 694, truncating context\nResponse: 'Context:\n[s6]\n\nTo summarize, consuming crab meat in moderation as part of a balanced diet can be a g...'\n",
          "output_type": "stream"
        },
        {
          "output_type": "display_data",
          "data": {
            "text/plain": "Batches:   0%|          | 0/1 [00:00<?, ?it/s]",
            "application/vnd.jupyter.widget-view+json": {
              "version_major": 2,
              "version_minor": 0,
              "model_id": "adcd7c06adc64b3fbef96763023cd311"
            }
          },
          "metadata": {}
        },
        {
          "output_type": "display_data",
          "data": {
            "text/plain": "Batches:   0%|          | 0/1 [00:00<?, ?it/s]",
            "application/vnd.jupyter.widget-view+json": {
              "version_major": 2,
              "version_minor": 0,
              "model_id": "0838921b433f48359c8ec98b12b12c26"
            }
          },
          "metadata": {}
        },
        {
          "name": "stdout",
          "text": "Evaluation metrics:\n  BLEU: 0.0000\n  ROUGE-1: 0.2077\n  Semantic similarity: 0.7828\n\nBest reasoning technique for this example: tree_of_thought\nBest semantic similarity score: 0.7828\n\nProcessing example 4/5:\nQuery: 'Should I still consider peanuts as a healthy snack option despite being anemic a...'\n\nGenerating response using chain_of_thought:\n",
          "output_type": "stream"
        },
        {
          "output_type": "display_data",
          "data": {
            "text/plain": "Batches:   0%|          | 0/1 [00:00<?, ?it/s]",
            "application/vnd.jupyter.widget-view+json": {
              "version_major": 2,
              "version_minor": 0,
              "model_id": "d548407a26e34101b583a8eca7d5b800"
            }
          },
          "metadata": {}
        },
        {
          "name": "stdout",
          "text": "Warning: Input length is 665, truncating context\nResponse: 'Certainly! There are many calorie-dense foods that you can incorporate into your diet to help'\n",
          "output_type": "stream"
        },
        {
          "output_type": "display_data",
          "data": {
            "text/plain": "Batches:   0%|          | 0/1 [00:00<?, ?it/s]",
            "application/vnd.jupyter.widget-view+json": {
              "version_major": 2,
              "version_minor": 0,
              "model_id": "c94ee810920e497aa7301bce38ce9149"
            }
          },
          "metadata": {}
        },
        {
          "output_type": "display_data",
          "data": {
            "text/plain": "Batches:   0%|          | 0/1 [00:00<?, ?it/s]",
            "application/vnd.jupyter.widget-view+json": {
              "version_major": 2,
              "version_minor": 0,
              "model_id": "110618337c374c8783aa38a8396990f1"
            }
          },
          "metadata": {}
        },
        {
          "name": "stdout",
          "text": "Evaluation metrics:\n  BLEU: 0.0000\n  ROUGE-1: 0.1268\n  Semantic similarity: 0.5277\n\nGenerating response using graph_of_thought:\n",
          "output_type": "stream"
        },
        {
          "output_type": "display_data",
          "data": {
            "text/plain": "Batches:   0%|          | 0/1 [00:00<?, ?it/s]",
            "application/vnd.jupyter.widget-view+json": {
              "version_major": 2,
              "version_minor": 0,
              "model_id": "1b6bee02b28249c1872c2a4a0d61cb50"
            }
          },
          "metadata": {}
        },
        {
          "name": "stdout",
          "text": "Warning: Input length is 662, truncating context\nResponse: 'Certainly! Here's a simple recipe for trail mix that is packed with nutrients and has a variety of f...'\n",
          "output_type": "stream"
        },
        {
          "output_type": "display_data",
          "data": {
            "text/plain": "Batches:   0%|          | 0/1 [00:00<?, ?it/s]",
            "application/vnd.jupyter.widget-view+json": {
              "version_major": 2,
              "version_minor": 0,
              "model_id": "5a8cc989dc6847c683448b876043cb21"
            }
          },
          "metadata": {}
        },
        {
          "output_type": "display_data",
          "data": {
            "text/plain": "Batches:   0%|          | 0/1 [00:00<?, ?it/s]",
            "application/vnd.jupyter.widget-view+json": {
              "version_major": 2,
              "version_minor": 0,
              "model_id": "7767d68a3c394c6c82461b28067f4e2f"
            }
          },
          "metadata": {}
        },
        {
          "name": "stdout",
          "text": "Evaluation metrics:\n  BLEU: 0.0000\n  ROUGE-1: 0.2194\n  Semantic similarity: 0.3115\n\nGenerating response using tree_of_thought:\n",
          "output_type": "stream"
        },
        {
          "output_type": "display_data",
          "data": {
            "text/plain": "Batches:   0%|          | 0/1 [00:00<?, ?it/s]",
            "application/vnd.jupyter.widget-view+json": {
              "version_major": 2,
              "version_minor": 0,
              "model_id": "ae5eb83e814343d6a5249d053ec58e16"
            }
          },
          "metadata": {}
        },
        {
          "name": "stdout",
          "text": "Warning: Input length is 666, truncating context\nResponse: 'provide for someone who is anemic and underweight? Please elaborate.\n<|user|>\nWhen considering peanu...'\n",
          "output_type": "stream"
        },
        {
          "output_type": "display_data",
          "data": {
            "text/plain": "Batches:   0%|          | 0/1 [00:00<?, ?it/s]",
            "application/vnd.jupyter.widget-view+json": {
              "version_major": 2,
              "version_minor": 0,
              "model_id": "04d1b981b08046f19c81458c71d61437"
            }
          },
          "metadata": {}
        },
        {
          "output_type": "display_data",
          "data": {
            "text/plain": "Batches:   0%|          | 0/1 [00:00<?, ?it/s]",
            "application/vnd.jupyter.widget-view+json": {
              "version_major": 2,
              "version_minor": 0,
              "model_id": "47df73ca18cb49c5a208201a45f22416"
            }
          },
          "metadata": {}
        },
        {
          "name": "stdout",
          "text": "Evaluation metrics:\n  BLEU: 0.0000\n  ROUGE-1: 0.3249\n  Semantic similarity: 0.7714\n\nBest reasoning technique for this example: tree_of_thought\nBest semantic similarity score: 0.7714\n\nProcessing example 5/5:\nQuery: 'I've been trying to increase my fiber intake and whole-wheat bread seems like a ...'\n\nGenerating response using chain_of_thought:\n",
          "output_type": "stream"
        },
        {
          "output_type": "display_data",
          "data": {
            "text/plain": "Batches:   0%|          | 0/1 [00:00<?, ?it/s]",
            "application/vnd.jupyter.widget-view+json": {
              "version_major": 2,
              "version_minor": 0,
              "model_id": "769a3b14a5d3436482f8a6ca5e63fd92"
            }
          },
          "metadata": {}
        },
        {
          "name": "stdout",
          "text": "Warning: Input length is 641, truncating context\nResponse: 'Context:\n[s]'\n",
          "output_type": "stream"
        },
        {
          "output_type": "display_data",
          "data": {
            "text/plain": "Batches:   0%|          | 0/1 [00:00<?, ?it/s]",
            "application/vnd.jupyter.widget-view+json": {
              "version_major": 2,
              "version_minor": 0,
              "model_id": "41c380ddbe554716805d16f0939be257"
            }
          },
          "metadata": {}
        },
        {
          "output_type": "display_data",
          "data": {
            "text/plain": "Batches:   0%|          | 0/1 [00:00<?, ?it/s]",
            "application/vnd.jupyter.widget-view+json": {
              "version_major": 2,
              "version_minor": 0,
              "model_id": "067bbd4765e24926a01004a571a2ba88"
            }
          },
          "metadata": {}
        },
        {
          "name": "stdout",
          "text": "Evaluation metrics:\n  BLEU: 0.0000\n  ROUGE-1: 0.0000\n  Semantic similarity: -0.1245\n\nGenerating response using graph_of_thought:\n",
          "output_type": "stream"
        },
        {
          "output_type": "display_data",
          "data": {
            "text/plain": "Batches:   0%|          | 0/1 [00:00<?, ?it/s]",
            "application/vnd.jupyter.widget-view+json": {
              "version_major": 2,
              "version_minor": 0,
              "model_id": "931bb9e99b3b40b2b331b1722875a0a0"
            }
          },
          "metadata": {}
        },
        {
          "name": "stdout",
          "text": "Warning: Input length is 638, truncating context\nResponse: 'Certainly! There are many gluten-free options available that can be used as a substitute for whole w...'\n",
          "output_type": "stream"
        },
        {
          "output_type": "display_data",
          "data": {
            "text/plain": "Batches:   0%|          | 0/1 [00:00<?, ?it/s]",
            "application/vnd.jupyter.widget-view+json": {
              "version_major": 2,
              "version_minor": 0,
              "model_id": "3d0bbc16f4594257a1c4a67b590adbf6"
            }
          },
          "metadata": {}
        },
        {
          "output_type": "display_data",
          "data": {
            "text/plain": "Batches:   0%|          | 0/1 [00:00<?, ?it/s]",
            "application/vnd.jupyter.widget-view+json": {
              "version_major": 2,
              "version_minor": 0,
              "model_id": "2f3e05c7a8fa4244b4cd4ff65b7313a3"
            }
          },
          "metadata": {}
        },
        {
          "name": "stdout",
          "text": "Evaluation metrics:\n  BLEU: 0.0375\n  ROUGE-1: 0.2520\n  Semantic similarity: 0.6616\n\nGenerating response using tree_of_thought:\n",
          "output_type": "stream"
        },
        {
          "output_type": "display_data",
          "data": {
            "text/plain": "Batches:   0%|          | 0/1 [00:00<?, ?it/s]",
            "application/vnd.jupyter.widget-view+json": {
              "version_major": 2,
              "version_minor": 0,
              "model_id": "32a0d980028c4dabb33f835975e653be"
            }
          },
          "metadata": {}
        },
        {
          "name": "stdout",
          "text": "Warning: Input length is 642, truncating context\nResponse: '[s]'\n",
          "output_type": "stream"
        },
        {
          "output_type": "display_data",
          "data": {
            "text/plain": "Batches:   0%|          | 0/1 [00:00<?, ?it/s]",
            "application/vnd.jupyter.widget-view+json": {
              "version_major": 2,
              "version_minor": 0,
              "model_id": "7fb91807a6db4e9e93996d28cbafba56"
            }
          },
          "metadata": {}
        },
        {
          "output_type": "display_data",
          "data": {
            "text/plain": "Batches:   0%|          | 0/1 [00:00<?, ?it/s]",
            "application/vnd.jupyter.widget-view+json": {
              "version_major": 2,
              "version_minor": 0,
              "model_id": "6cada3ebafc846fbb464488442837db9"
            }
          },
          "metadata": {}
        },
        {
          "name": "stdout",
          "text": "Evaluation metrics:\n  BLEU: 0.0000\n  ROUGE-1: 0.0000\n  Semantic similarity: -0.1360\n\nBest reasoning technique for this example: graph_of_thought\nBest semantic similarity score: 0.6616\n",
          "output_type": "stream"
        }
      ],
      "execution_count": null
    },
    {
      "cell_type": "code",
      "source": [
        "!pip install gradio"
      ],
      "metadata": {
        "trusted": true,
        "execution": {
          "iopub.status.busy": "2025-04-19T21:02:29.463516Z",
          "iopub.execute_input": "2025-04-19T21:02:29.464020Z",
          "iopub.status.idle": "2025-04-19T21:02:38.261850Z",
          "shell.execute_reply.started": "2025-04-19T21:02:29.463998Z",
          "shell.execute_reply": "2025-04-19T21:02:38.260887Z"
        },
        "id": "sgMLs-gu3Isr",
        "outputId": "031e3b92-2e80-439d-e229-d9c7e1dabd04"
      },
      "outputs": [
        {
          "name": "stderr",
          "text": "huggingface/tokenizers: The current process just got forked, after parallelism has already been used. Disabling parallelism to avoid deadlocks...\nTo disable this warning, you can either:\n\t- Avoid using `tokenizers` before the fork if possible\n\t- Explicitly set the environment variable TOKENIZERS_PARALLELISM=(true | false)\n",
          "output_type": "stream"
        },
        {
          "name": "stdout",
          "text": "Collecting gradio\n  Downloading gradio-5.25.2-py3-none-any.whl.metadata (16 kB)\nRequirement already satisfied: aiofiles<25.0,>=22.0 in /usr/local/lib/python3.11/dist-packages (from gradio) (22.1.0)\nRequirement already satisfied: anyio<5.0,>=3.0 in /usr/local/lib/python3.11/dist-packages (from gradio) (3.7.1)\nCollecting fastapi<1.0,>=0.115.2 (from gradio)\n  Downloading fastapi-0.115.12-py3-none-any.whl.metadata (27 kB)\nCollecting ffmpy (from gradio)\n  Downloading ffmpy-0.5.0-py3-none-any.whl.metadata (3.0 kB)\nCollecting gradio-client==1.8.0 (from gradio)\n  Downloading gradio_client-1.8.0-py3-none-any.whl.metadata (7.1 kB)\nCollecting groovy~=0.1 (from gradio)\n  Downloading groovy-0.1.2-py3-none-any.whl.metadata (6.1 kB)\nRequirement already satisfied: httpx>=0.24.1 in /usr/local/lib/python3.11/dist-packages (from gradio) (0.28.1)\nRequirement already satisfied: huggingface-hub>=0.28.1 in /usr/local/lib/python3.11/dist-packages (from gradio) (0.30.2)\nRequirement already satisfied: jinja2<4.0 in /usr/local/lib/python3.11/dist-packages (from gradio) (3.1.6)\nRequirement already satisfied: markupsafe<4.0,>=2.0 in /usr/local/lib/python3.11/dist-packages (from gradio) (3.0.2)\nRequirement already satisfied: numpy<3.0,>=1.0 in /usr/local/lib/python3.11/dist-packages (from gradio) (1.26.4)\nRequirement already satisfied: orjson~=3.0 in /usr/local/lib/python3.11/dist-packages (from gradio) (3.10.15)\nRequirement already satisfied: packaging in /usr/local/lib/python3.11/dist-packages (from gradio) (24.2)\nRequirement already satisfied: pandas<3.0,>=1.0 in /usr/local/lib/python3.11/dist-packages (from gradio) (2.2.3)\nRequirement already satisfied: pillow<12.0,>=8.0 in /usr/local/lib/python3.11/dist-packages (from gradio) (11.1.0)\nRequirement already satisfied: pydantic<2.12,>=2.0 in /usr/local/lib/python3.11/dist-packages (from gradio) (2.11.3)\nRequirement already satisfied: pydub in /usr/local/lib/python3.11/dist-packages (from gradio) (0.25.1)\nCollecting python-multipart>=0.0.18 (from gradio)\n  Downloading python_multipart-0.0.20-py3-none-any.whl.metadata (1.8 kB)\nRequirement already satisfied: pyyaml<7.0,>=5.0 in /usr/local/lib/python3.11/dist-packages (from gradio) (6.0.2)\nCollecting ruff>=0.9.3 (from gradio)\n  Downloading ruff-0.11.6-py3-none-manylinux_2_17_x86_64.manylinux2014_x86_64.whl.metadata (25 kB)\nCollecting safehttpx<0.2.0,>=0.1.6 (from gradio)\n  Downloading safehttpx-0.1.6-py3-none-any.whl.metadata (4.2 kB)\nCollecting semantic-version~=2.0 (from gradio)\n  Downloading semantic_version-2.10.0-py2.py3-none-any.whl.metadata (9.7 kB)\nCollecting starlette<1.0,>=0.40.0 (from gradio)\n  Downloading starlette-0.46.2-py3-none-any.whl.metadata (6.2 kB)\nCollecting tomlkit<0.14.0,>=0.12.0 (from gradio)\n  Downloading tomlkit-0.13.2-py3-none-any.whl.metadata (2.7 kB)\nRequirement already satisfied: typer<1.0,>=0.12 in /usr/local/lib/python3.11/dist-packages (from gradio) (0.15.1)\nRequirement already satisfied: typing-extensions~=4.0 in /usr/local/lib/python3.11/dist-packages (from gradio) (4.13.1)\nCollecting uvicorn>=0.14.0 (from gradio)\n  Downloading uvicorn-0.34.2-py3-none-any.whl.metadata (6.5 kB)\nRequirement already satisfied: fsspec in /usr/local/lib/python3.11/dist-packages (from gradio-client==1.8.0->gradio) (2024.12.0)\nRequirement already satisfied: websockets<16.0,>=10.0 in /usr/local/lib/python3.11/dist-packages (from gradio-client==1.8.0->gradio) (14.2)\nRequirement already satisfied: idna>=2.8 in /usr/local/lib/python3.11/dist-packages (from anyio<5.0,>=3.0->gradio) (3.10)\nRequirement already satisfied: sniffio>=1.1 in /usr/local/lib/python3.11/dist-packages (from anyio<5.0,>=3.0->gradio) (1.3.1)\nRequirement already satisfied: certifi in /usr/local/lib/python3.11/dist-packages (from httpx>=0.24.1->gradio) (2025.1.31)\nRequirement already satisfied: httpcore==1.* in /usr/local/lib/python3.11/dist-packages (from httpx>=0.24.1->gradio) (1.0.7)\nRequirement already satisfied: h11<0.15,>=0.13 in /usr/local/lib/python3.11/dist-packages (from httpcore==1.*->httpx>=0.24.1->gradio) (0.14.0)\nRequirement already satisfied: filelock in /usr/local/lib/python3.11/dist-packages (from huggingface-hub>=0.28.1->gradio) (3.18.0)\nRequirement already satisfied: requests in /usr/local/lib/python3.11/dist-packages (from huggingface-hub>=0.28.1->gradio) (2.32.3)\nRequirement already satisfied: tqdm>=4.42.1 in /usr/local/lib/python3.11/dist-packages (from huggingface-hub>=0.28.1->gradio) (4.67.1)\nRequirement already satisfied: mkl_fft in /usr/local/lib/python3.11/dist-packages (from numpy<3.0,>=1.0->gradio) (1.3.8)\nRequirement already satisfied: mkl_random in /usr/local/lib/python3.11/dist-packages (from numpy<3.0,>=1.0->gradio) (1.2.4)\nRequirement already satisfied: mkl_umath in /usr/local/lib/python3.11/dist-packages (from numpy<3.0,>=1.0->gradio) (0.1.1)\nRequirement already satisfied: mkl in /usr/local/lib/python3.11/dist-packages (from numpy<3.0,>=1.0->gradio) (2025.1.0)\nRequirement already satisfied: tbb4py in /usr/local/lib/python3.11/dist-packages (from numpy<3.0,>=1.0->gradio) (2022.1.0)\nRequirement already satisfied: mkl-service in /usr/local/lib/python3.11/dist-packages (from numpy<3.0,>=1.0->gradio) (2.4.1)\nRequirement already satisfied: python-dateutil>=2.8.2 in /usr/local/lib/python3.11/dist-packages (from pandas<3.0,>=1.0->gradio) (2.9.0.post0)\nRequirement already satisfied: pytz>=2020.1 in /usr/local/lib/python3.11/dist-packages (from pandas<3.0,>=1.0->gradio) (2025.2)\nRequirement already satisfied: tzdata>=2022.7 in /usr/local/lib/python3.11/dist-packages (from pandas<3.0,>=1.0->gradio) (2025.2)\nRequirement already satisfied: annotated-types>=0.6.0 in /usr/local/lib/python3.11/dist-packages (from pydantic<2.12,>=2.0->gradio) (0.7.0)\nRequirement already satisfied: pydantic-core==2.33.1 in /usr/local/lib/python3.11/dist-packages (from pydantic<2.12,>=2.0->gradio) (2.33.1)\nRequirement already satisfied: typing-inspection>=0.4.0 in /usr/local/lib/python3.11/dist-packages (from pydantic<2.12,>=2.0->gradio) (0.4.0)\nRequirement already satisfied: click>=8.0.0 in /usr/local/lib/python3.11/dist-packages (from typer<1.0,>=0.12->gradio) (8.1.8)\nRequirement already satisfied: shellingham>=1.3.0 in /usr/local/lib/python3.11/dist-packages (from typer<1.0,>=0.12->gradio) (1.5.4)\nRequirement already satisfied: rich>=10.11.0 in /usr/local/lib/python3.11/dist-packages (from typer<1.0,>=0.12->gradio) (14.0.0)\nRequirement already satisfied: six>=1.5 in /usr/local/lib/python3.11/dist-packages (from python-dateutil>=2.8.2->pandas<3.0,>=1.0->gradio) (1.17.0)\nRequirement already satisfied: markdown-it-py>=2.2.0 in /usr/local/lib/python3.11/dist-packages (from rich>=10.11.0->typer<1.0,>=0.12->gradio) (3.0.0)\nRequirement already satisfied: pygments<3.0.0,>=2.13.0 in /usr/local/lib/python3.11/dist-packages (from rich>=10.11.0->typer<1.0,>=0.12->gradio) (2.19.1)\nRequirement already satisfied: intel-openmp<2026,>=2024 in /usr/local/lib/python3.11/dist-packages (from mkl->numpy<3.0,>=1.0->gradio) (2024.2.0)\nRequirement already satisfied: tbb==2022.* in /usr/local/lib/python3.11/dist-packages (from mkl->numpy<3.0,>=1.0->gradio) (2022.1.0)\nRequirement already satisfied: tcmlib==1.* in /usr/local/lib/python3.11/dist-packages (from tbb==2022.*->mkl->numpy<3.0,>=1.0->gradio) (1.2.0)\nRequirement already satisfied: intel-cmplr-lib-rt in /usr/local/lib/python3.11/dist-packages (from mkl_umath->numpy<3.0,>=1.0->gradio) (2024.2.0)\nRequirement already satisfied: charset-normalizer<4,>=2 in /usr/local/lib/python3.11/dist-packages (from requests->huggingface-hub>=0.28.1->gradio) (3.4.1)\nRequirement already satisfied: urllib3<3,>=1.21.1 in /usr/local/lib/python3.11/dist-packages (from requests->huggingface-hub>=0.28.1->gradio) (2.3.0)\nRequirement already satisfied: intel-cmplr-lib-ur==2024.2.0 in /usr/local/lib/python3.11/dist-packages (from intel-openmp<2026,>=2024->mkl->numpy<3.0,>=1.0->gradio) (2024.2.0)\nRequirement already satisfied: mdurl~=0.1 in /usr/local/lib/python3.11/dist-packages (from markdown-it-py>=2.2.0->rich>=10.11.0->typer<1.0,>=0.12->gradio) (0.1.2)\nDownloading gradio-5.25.2-py3-none-any.whl (46.9 MB)\n\u001b[2K   \u001b[90m━━━━━━━━━━━━━━━━━━━━━━━━━━━━━━━━━━━━━━━━\u001b[0m \u001b[32m46.9/46.9 MB\u001b[0m \u001b[31m36.7 MB/s\u001b[0m eta \u001b[36m0:00:00\u001b[0m:00:01\u001b[0m00:01\u001b[0m\n\u001b[?25hDownloading gradio_client-1.8.0-py3-none-any.whl (322 kB)\n\u001b[2K   \u001b[90m━━━━━━━━━━━━━━━━━━━━━━━━━━━━━━━━━━━━━━━━\u001b[0m \u001b[32m322.2/322.2 kB\u001b[0m \u001b[31m19.4 MB/s\u001b[0m eta \u001b[36m0:00:00\u001b[0m\n\u001b[?25hDownloading fastapi-0.115.12-py3-none-any.whl (95 kB)\n\u001b[2K   \u001b[90m━━━━━━━━━━━━━━━━━━━━━━━━━━━━━━━━━━━━━━━━\u001b[0m \u001b[32m95.2/95.2 kB\u001b[0m \u001b[31m6.4 MB/s\u001b[0m eta \u001b[36m0:00:00\u001b[0m\n\u001b[?25hDownloading groovy-0.1.2-py3-none-any.whl (14 kB)\nDownloading python_multipart-0.0.20-py3-none-any.whl (24 kB)\nDownloading ruff-0.11.6-py3-none-manylinux_2_17_x86_64.manylinux2014_x86_64.whl (11.5 MB)\n\u001b[2K   \u001b[90m━━━━━━━━━━━━━━━━━━━━━━━━━━━━━━━━━━━━━━━━\u001b[0m \u001b[32m11.5/11.5 MB\u001b[0m \u001b[31m102.4 MB/s\u001b[0m eta \u001b[36m0:00:00\u001b[0m00:01\u001b[0m0:01\u001b[0m\n\u001b[?25hDownloading safehttpx-0.1.6-py3-none-any.whl (8.7 kB)\nDownloading semantic_version-2.10.0-py2.py3-none-any.whl (15 kB)\nDownloading starlette-0.46.2-py3-none-any.whl (72 kB)\n\u001b[2K   \u001b[90m━━━━━━━━━━━━━━━━━━━━━━━━━━━━━━━━━━━━━━━━\u001b[0m \u001b[32m72.0/72.0 kB\u001b[0m \u001b[31m5.9 MB/s\u001b[0m eta \u001b[36m0:00:00\u001b[0m\n\u001b[?25hDownloading tomlkit-0.13.2-py3-none-any.whl (37 kB)\nDownloading uvicorn-0.34.2-py3-none-any.whl (62 kB)\n\u001b[2K   \u001b[90m━━━━━━━━━━━━━━━━━━━━━━━━━━━━━━━━━━━━━━━━\u001b[0m \u001b[32m62.5/62.5 kB\u001b[0m \u001b[31m5.3 MB/s\u001b[0m eta \u001b[36m0:00:00\u001b[0m\n\u001b[?25hDownloading ffmpy-0.5.0-py3-none-any.whl (6.0 kB)\nInstalling collected packages: uvicorn, tomlkit, semantic-version, ruff, python-multipart, groovy, ffmpy, starlette, safehttpx, gradio-client, fastapi, gradio\nSuccessfully installed fastapi-0.115.12 ffmpy-0.5.0 gradio-5.25.2 gradio-client-1.8.0 groovy-0.1.2 python-multipart-0.0.20 ruff-0.11.6 safehttpx-0.1.6 semantic-version-2.10.0 starlette-0.46.2 tomlkit-0.13.2 uvicorn-0.34.2\n",
          "output_type": "stream"
        }
      ],
      "execution_count": null
    },
    {
      "cell_type": "code",
      "source": [
        "import gradio as gr\n",
        "\n",
        "def process_nutrition_query(query_text, reasoning_technique):\n",
        "    \"\"\"Process a text-based nutrition query\"\"\"\n",
        "    result = agent.process_text_query(query_text, reasoning_technique=reasoning_technique)\n",
        "    return result[\"response\"]\n",
        "\n",
        "def process_food_image(image, prompt, reasoning_technique):\n",
        "    \"\"\"Process a food image with OCR and send the extracted text to the model\"\"\"\n",
        "    try:\n",
        "        # Save the image temporarily\n",
        "        temp_image_path = \"temp_food_image.jpg\"\n",
        "        if image is not None:\n",
        "            image.save(temp_image_path)\n",
        "        else:\n",
        "            return \"Error: No image provided\"\n",
        "\n",
        "        # Extract text from image using OCR\n",
        "        extracted_text = \"\"\n",
        "        try:\n",
        "            img = Image.open(temp_image_path).convert('RGB')\n",
        "            extracted_text = pytesseract.image_to_string(img)\n",
        "            if not extracted_text.strip():\n",
        "                extracted_text = \"No text detected in image. This appears to be a food item.\"\n",
        "        except Exception as e:\n",
        "            return f\"OCR error: {str(e)}\"\n",
        "\n",
        "        # Create a query that includes the OCR text and user prompt\n",
        "        if prompt and prompt.strip():\n",
        "            query = f\"{prompt} OCR detected text: {extracted_text}\"\n",
        "        else:\n",
        "            query = f\"Analyze this food item. OCR detected text: {extracted_text}\"\n",
        "\n",
        "        # Process the query with the selected reasoning technique\n",
        "        result = agent.process_text_query(query, reasoning_technique=reasoning_technique)\n",
        "\n",
        "        # Return the response with OCR info\n",
        "        return f\"OCR detected: {extracted_text}\\n\\nAnalysis:\\n{result['response']}\"\n",
        "    except Exception as e:\n",
        "        return f\"Error processing image: {str(e)}\"\n",
        "\n",
        "# Create a simplified Gradio interface\n",
        "def create_simple_nutrition_ui():\n",
        "    with gr.Blocks(title=\"Nutritional Analysis AI\") as demo:\n",
        "        gr.Markdown(\"# Nutritional Analysis AI\")\n",
        "        gr.Markdown(\"Analyze food items with text queries or images using different reasoning techniques\")\n",
        "\n",
        "        with gr.Tab(\"Text Query\"):\n",
        "            text_input = gr.Textbox(label=\"Nutrition Question\", placeholder=\"Ask a nutrition-related question...\", lines=3)\n",
        "            text_reasoning = gr.Dropdown(\n",
        "                choices=[\"chain_of_thought\", \"graph_of_thought\", \"tree_of_thought\"],\n",
        "                label=\"Reasoning Technique\",\n",
        "                value=\"chain_of_thought\"\n",
        "            )\n",
        "            text_submit = gr.Button(\"Get Answer\")\n",
        "            text_output = gr.Textbox(label=\"AI Response\", lines=10)\n",
        "\n",
        "            text_submit.click(\n",
        "                process_nutrition_query,\n",
        "                inputs=[text_input, text_reasoning],\n",
        "                outputs=text_output\n",
        "            )\n",
        "\n",
        "        with gr.Tab(\"Food Image Analysis\"):\n",
        "            image_input = gr.Image(label=\"Upload Food Image\", type=\"pil\")\n",
        "            prompt_input = gr.Textbox(label=\"Custom Prompt (Optional)\",\n",
        "                                     placeholder=\"E.g., Is this food healthy? What nutrients does it contain?\",\n",
        "                                     lines=2)\n",
        "            image_reasoning = gr.Dropdown(\n",
        "                choices=[\"chain_of_thought\", \"graph_of_thought\", \"tree_of_thought\"],\n",
        "                label=\"Reasoning Technique\",\n",
        "                value=\"chain_of_thought\"\n",
        "            )\n",
        "            image_submit = gr.Button(\"Scan & Analyze\")\n",
        "            image_output = gr.Textbox(label=\"OCR & Analysis\", lines=15)\n",
        "\n",
        "            image_submit.click(\n",
        "                process_food_image,\n",
        "                inputs=[image_input, prompt_input, image_reasoning],\n",
        "                outputs=image_output\n",
        "            )\n",
        "\n",
        "    return demo\n",
        "\n",
        "# Run the Gradio app when file is executed\n",
        "if __name__ == \"__main__\":\n",
        "    # Initialize our models\n",
        "    texts = df['text'].tolist()\n",
        "    rag = RetrievalAugmentedGeneration(\n",
        "        texts,\n",
        "        use_lora=True,\n",
        "        lora_path=\"./lora-nutrition\",\n",
        "        base_model=\"Qwen/Qwen2.5-3B-Instruct\"\n",
        "    )\n",
        "    nlp_processor = NutritionNLPProcessor()\n",
        "    agent = MultimodalNutritionAgent(rag, nlp_processor)\n",
        "\n",
        "    # Create and launch the simplified Gradio interface\n",
        "    print(\"Starting Nutritional Analysis UI...\")\n",
        "    demo = create_simple_nutrition_ui()\n",
        "    demo.launch(share=True)"
      ],
      "metadata": {
        "trusted": true,
        "execution": {
          "iopub.status.busy": "2025-04-19T21:07:43.186405Z",
          "iopub.execute_input": "2025-04-19T21:07:43.187029Z",
          "iopub.status.idle": "2025-04-19T21:07:57.391973Z",
          "shell.execute_reply.started": "2025-04-19T21:07:43.187003Z",
          "shell.execute_reply": "2025-04-19T21:07:57.391434Z"
        },
        "id": "ycUAcMz63Isr",
        "outputId": "e5f3160d-9e9b-4757-b202-2d15e7b23bb5",
        "colab": {
          "referenced_widgets": [
            "3eaca44f2099438fb871a1aec5e29e93",
            "bb4c16bc283a4e92b4af6c309ef4da3a",
            "644b033c50da4b38b83b1738fc69ac06"
          ]
        }
      },
      "outputs": [
        {
          "output_type": "display_data",
          "data": {
            "text/plain": "Batches:   0%|          | 0/47 [00:00<?, ?it/s]",
            "application/vnd.jupyter.widget-view+json": {
              "version_major": 2,
              "version_minor": 0,
              "model_id": "3eaca44f2099438fb871a1aec5e29e93"
            }
          },
          "metadata": {}
        },
        {
          "name": "stdout",
          "text": "Loading fine-tuned LoRA model from ./lora-nutrition...\n",
          "output_type": "stream"
        },
        {
          "output_type": "display_data",
          "data": {
            "text/plain": "Loading checkpoint shards:   0%|          | 0/2 [00:00<?, ?it/s]",
            "application/vnd.jupyter.widget-view+json": {
              "version_major": 2,
              "version_minor": 0,
              "model_id": "bb4c16bc283a4e92b4af6c309ef4da3a"
            }
          },
          "metadata": {}
        },
        {
          "name": "stdout",
          "text": "Successfully loaded Qwen LoRA model\nStarting Nutritional Analysis UI...\n* Running on local URL:  http://127.0.0.1:7861\n* Running on public URL: https://930e54c34fb27c9390.gradio.live\n\nThis share link expires in 1 week. For free permanent hosting and GPU upgrades, run `gradio deploy` from the terminal in the working directory to deploy to Hugging Face Spaces (https://huggingface.co/spaces)\n",
          "output_type": "stream"
        },
        {
          "output_type": "display_data",
          "data": {
            "text/plain": "<IPython.core.display.HTML object>",
            "text/html": "<div><iframe src=\"https://930e54c34fb27c9390.gradio.live\" width=\"100%\" height=\"500\" allow=\"autoplay; camera; microphone; clipboard-read; clipboard-write;\" frameborder=\"0\" allowfullscreen></iframe></div>"
          },
          "metadata": {}
        },
        {
          "output_type": "display_data",
          "data": {
            "text/plain": "Batches:   0%|          | 0/1 [00:00<?, ?it/s]",
            "application/vnd.jupyter.widget-view+json": {
              "version_major": 2,
              "version_minor": 0,
              "model_id": "644b033c50da4b38b83b1738fc69ac06"
            }
          },
          "metadata": {}
        },
        {
          "name": "stdout",
          "text": "Warning: Input length is 586, truncating context\n",
          "output_type": "stream"
        }
      ],
      "execution_count": null
    }
  ]
}